{
 "cells": [
  {
   "cell_type": "code",
   "execution_count": 1,
   "metadata": {},
   "outputs": [
    {
     "data": {
      "application/vnd.plotly.v1+json": {
       "config": {
        "plotlyServerURL": "https://plot.ly"
       },
       "data": [
        {
         "customdata": [
          "Publication de 'Computing Machinery and Intelligence'.<br><a style='color: #00ffff;' href='https://doi.org/10.1093/mind/LIX.236.433'>→ Consulter l'article original</a>"
         ],
         "hoverlabel": {
          "align": "left",
          "bgcolor": "rgba(0,0,0,0.8)"
         },
         "hovertemplate": "%{customdata}<br><b>%{y|%Y}</b><extra></extra>",
         "marker": {
          "size": 12,
          "symbol": "circle"
         },
         "mode": "markers+text",
         "showlegend": false,
         "text": [
          "Turing traite du « jeu<br>d'imitation »"
         ],
         "textfont": {
          "size": 14
         },
         "textposition": "middle right",
         "type": "scatter",
         "x": [
          0
         ],
         "y": [
          "1950-01-01T00:00:00"
         ]
        },
        {
         "customdata": [
          "Premier chatbot simulant un psychothérapeute.<br><a style='color: #00ffff;' href='https://wikipedia.org/wiki/ELIZA'>→ Article Wikipedia sur ELIZA</a>"
         ],
         "hoverlabel": {
          "align": "right",
          "bgcolor": "rgba(0,0,0,0.8)"
         },
         "hovertemplate": "%{customdata}<br><b>%{y|%Y}</b><extra></extra>",
         "marker": {
          "size": 12,
          "symbol": "circle"
         },
         "mode": "markers+text",
         "showlegend": false,
         "text": [
          "Joseph Weizenbaum lance le<br>programme ELIZA"
         ],
         "textfont": {
          "size": 14
         },
         "textposition": "middle left",
         "type": "scatter",
         "x": [
          0
         ],
         "y": [
          "1966-01-01T00:00:00"
         ]
        },
        {
         "customdata": [
          "Chatbot simulant un patient paranoïaque, créé par Kenneth Colby.<br><a style='color: #00ffff;' href='https://wikipedia.org/wiki/PARRY'>→ Article Wikipedia sur PARRY</a>"
         ],
         "hoverlabel": {
          "align": "left",
          "bgcolor": "rgba(0,0,0,0.8)"
         },
         "hovertemplate": "%{customdata}<br><b>%{y|%Y}</b><extra></extra>",
         "marker": {
          "size": 12,
          "symbol": "circle"
         },
         "mode": "markers+text",
         "showlegend": false,
         "text": [
          "Lancement du robot<br>conversationnel Parry"
         ],
         "textfont": {
          "size": 14
         },
         "textposition": "middle right",
         "type": "scatter",
         "x": [
          0
         ],
         "y": [
          "1972-01-01T00:00:00"
         ]
        },
        {
         "customdata": [
          "Article fondateur sur l'architecture des transformeurs par Vaswani et al.<br><a style='color: #00ffff;' href='https://doi.org/10.48550/arXiv.1706.03762'>→ Lire l'article original</a>"
         ],
         "hoverlabel": {
          "align": "right",
          "bgcolor": "rgba(0,0,0,0.8)"
         },
         "hovertemplate": "%{customdata}<br><b>%{y|%Y}</b><extra></extra>",
         "marker": {
          "size": 12,
          "symbol": "circle"
         },
         "mode": "markers+text",
         "showlegend": false,
         "text": [
          "Publication de l'article<br>'Attention is all you need'"
         ],
         "textfont": {
          "size": 14
         },
         "textposition": "middle left",
         "type": "scatter",
         "x": [
          0
         ],
         "y": [
          "2017-01-01T00:00:00"
         ]
        },
        {
         "customdata": [
          "Premier patient reçoit un implant cérébral Neuralink.<br><a style='color: #00ffff;' href='https://neuralink.com'>→ En savoir plus sur neuralink.com</a>"
         ],
         "hoverlabel": {
          "align": "left",
          "bgcolor": "rgba(0,0,0,0.8)"
         },
         "hovertemplate": "%{customdata}<br><b>%{y|%Y}</b><extra></extra>",
         "marker": {
          "size": 12,
          "symbol": "circle"
         },
         "mode": "markers+text",
         "showlegend": false,
         "text": [
          "Annonce de l'implantation<br>d'une puce Neuralink dans un<br>cerveau humain"
         ],
         "textfont": {
          "size": 14
         },
         "textposition": "middle right",
         "type": "scatter",
         "x": [
          0
         ],
         "y": [
          "2024-01-01T00:00:00"
         ]
        },
        {
         "hoverinfo": "skip",
         "line": {
          "color": "black",
          "width": 1
         },
         "mode": "lines",
         "showlegend": false,
         "type": "scatter",
         "x": [
          0,
          0
         ],
         "y": [
          "1950-01-01T00:00:00",
          "2024-01-01T00:00:00"
         ]
        }
       ],
       "layout": {
        "clickmode": "event+select",
        "height": 800,
        "hoverdistance": 100,
        "hoverlabel": {
         "font": {
          "size": 14
         }
        },
        "hovermode": "closest",
        "plot_bgcolor": "white",
        "template": {
         "data": {
          "bar": [
           {
            "error_x": {
             "color": "#2a3f5f"
            },
            "error_y": {
             "color": "#2a3f5f"
            },
            "marker": {
             "line": {
              "color": "#E5ECF6",
              "width": 0.5
             },
             "pattern": {
              "fillmode": "overlay",
              "size": 10,
              "solidity": 0.2
             }
            },
            "type": "bar"
           }
          ],
          "barpolar": [
           {
            "marker": {
             "line": {
              "color": "#E5ECF6",
              "width": 0.5
             },
             "pattern": {
              "fillmode": "overlay",
              "size": 10,
              "solidity": 0.2
             }
            },
            "type": "barpolar"
           }
          ],
          "carpet": [
           {
            "aaxis": {
             "endlinecolor": "#2a3f5f",
             "gridcolor": "white",
             "linecolor": "white",
             "minorgridcolor": "white",
             "startlinecolor": "#2a3f5f"
            },
            "baxis": {
             "endlinecolor": "#2a3f5f",
             "gridcolor": "white",
             "linecolor": "white",
             "minorgridcolor": "white",
             "startlinecolor": "#2a3f5f"
            },
            "type": "carpet"
           }
          ],
          "choropleth": [
           {
            "colorbar": {
             "outlinewidth": 0,
             "ticks": ""
            },
            "type": "choropleth"
           }
          ],
          "contour": [
           {
            "colorbar": {
             "outlinewidth": 0,
             "ticks": ""
            },
            "colorscale": [
             [
              0,
              "#0d0887"
             ],
             [
              0.1111111111111111,
              "#46039f"
             ],
             [
              0.2222222222222222,
              "#7201a8"
             ],
             [
              0.3333333333333333,
              "#9c179e"
             ],
             [
              0.4444444444444444,
              "#bd3786"
             ],
             [
              0.5555555555555556,
              "#d8576b"
             ],
             [
              0.6666666666666666,
              "#ed7953"
             ],
             [
              0.7777777777777778,
              "#fb9f3a"
             ],
             [
              0.8888888888888888,
              "#fdca26"
             ],
             [
              1,
              "#f0f921"
             ]
            ],
            "type": "contour"
           }
          ],
          "contourcarpet": [
           {
            "colorbar": {
             "outlinewidth": 0,
             "ticks": ""
            },
            "type": "contourcarpet"
           }
          ],
          "heatmap": [
           {
            "colorbar": {
             "outlinewidth": 0,
             "ticks": ""
            },
            "colorscale": [
             [
              0,
              "#0d0887"
             ],
             [
              0.1111111111111111,
              "#46039f"
             ],
             [
              0.2222222222222222,
              "#7201a8"
             ],
             [
              0.3333333333333333,
              "#9c179e"
             ],
             [
              0.4444444444444444,
              "#bd3786"
             ],
             [
              0.5555555555555556,
              "#d8576b"
             ],
             [
              0.6666666666666666,
              "#ed7953"
             ],
             [
              0.7777777777777778,
              "#fb9f3a"
             ],
             [
              0.8888888888888888,
              "#fdca26"
             ],
             [
              1,
              "#f0f921"
             ]
            ],
            "type": "heatmap"
           }
          ],
          "heatmapgl": [
           {
            "colorbar": {
             "outlinewidth": 0,
             "ticks": ""
            },
            "colorscale": [
             [
              0,
              "#0d0887"
             ],
             [
              0.1111111111111111,
              "#46039f"
             ],
             [
              0.2222222222222222,
              "#7201a8"
             ],
             [
              0.3333333333333333,
              "#9c179e"
             ],
             [
              0.4444444444444444,
              "#bd3786"
             ],
             [
              0.5555555555555556,
              "#d8576b"
             ],
             [
              0.6666666666666666,
              "#ed7953"
             ],
             [
              0.7777777777777778,
              "#fb9f3a"
             ],
             [
              0.8888888888888888,
              "#fdca26"
             ],
             [
              1,
              "#f0f921"
             ]
            ],
            "type": "heatmapgl"
           }
          ],
          "histogram": [
           {
            "marker": {
             "pattern": {
              "fillmode": "overlay",
              "size": 10,
              "solidity": 0.2
             }
            },
            "type": "histogram"
           }
          ],
          "histogram2d": [
           {
            "colorbar": {
             "outlinewidth": 0,
             "ticks": ""
            },
            "colorscale": [
             [
              0,
              "#0d0887"
             ],
             [
              0.1111111111111111,
              "#46039f"
             ],
             [
              0.2222222222222222,
              "#7201a8"
             ],
             [
              0.3333333333333333,
              "#9c179e"
             ],
             [
              0.4444444444444444,
              "#bd3786"
             ],
             [
              0.5555555555555556,
              "#d8576b"
             ],
             [
              0.6666666666666666,
              "#ed7953"
             ],
             [
              0.7777777777777778,
              "#fb9f3a"
             ],
             [
              0.8888888888888888,
              "#fdca26"
             ],
             [
              1,
              "#f0f921"
             ]
            ],
            "type": "histogram2d"
           }
          ],
          "histogram2dcontour": [
           {
            "colorbar": {
             "outlinewidth": 0,
             "ticks": ""
            },
            "colorscale": [
             [
              0,
              "#0d0887"
             ],
             [
              0.1111111111111111,
              "#46039f"
             ],
             [
              0.2222222222222222,
              "#7201a8"
             ],
             [
              0.3333333333333333,
              "#9c179e"
             ],
             [
              0.4444444444444444,
              "#bd3786"
             ],
             [
              0.5555555555555556,
              "#d8576b"
             ],
             [
              0.6666666666666666,
              "#ed7953"
             ],
             [
              0.7777777777777778,
              "#fb9f3a"
             ],
             [
              0.8888888888888888,
              "#fdca26"
             ],
             [
              1,
              "#f0f921"
             ]
            ],
            "type": "histogram2dcontour"
           }
          ],
          "mesh3d": [
           {
            "colorbar": {
             "outlinewidth": 0,
             "ticks": ""
            },
            "type": "mesh3d"
           }
          ],
          "parcoords": [
           {
            "line": {
             "colorbar": {
              "outlinewidth": 0,
              "ticks": ""
             }
            },
            "type": "parcoords"
           }
          ],
          "pie": [
           {
            "automargin": true,
            "type": "pie"
           }
          ],
          "scatter": [
           {
            "fillpattern": {
             "fillmode": "overlay",
             "size": 10,
             "solidity": 0.2
            },
            "type": "scatter"
           }
          ],
          "scatter3d": [
           {
            "line": {
             "colorbar": {
              "outlinewidth": 0,
              "ticks": ""
             }
            },
            "marker": {
             "colorbar": {
              "outlinewidth": 0,
              "ticks": ""
             }
            },
            "type": "scatter3d"
           }
          ],
          "scattercarpet": [
           {
            "marker": {
             "colorbar": {
              "outlinewidth": 0,
              "ticks": ""
             }
            },
            "type": "scattercarpet"
           }
          ],
          "scattergeo": [
           {
            "marker": {
             "colorbar": {
              "outlinewidth": 0,
              "ticks": ""
             }
            },
            "type": "scattergeo"
           }
          ],
          "scattergl": [
           {
            "marker": {
             "colorbar": {
              "outlinewidth": 0,
              "ticks": ""
             }
            },
            "type": "scattergl"
           }
          ],
          "scattermapbox": [
           {
            "marker": {
             "colorbar": {
              "outlinewidth": 0,
              "ticks": ""
             }
            },
            "type": "scattermapbox"
           }
          ],
          "scatterpolar": [
           {
            "marker": {
             "colorbar": {
              "outlinewidth": 0,
              "ticks": ""
             }
            },
            "type": "scatterpolar"
           }
          ],
          "scatterpolargl": [
           {
            "marker": {
             "colorbar": {
              "outlinewidth": 0,
              "ticks": ""
             }
            },
            "type": "scatterpolargl"
           }
          ],
          "scatterternary": [
           {
            "marker": {
             "colorbar": {
              "outlinewidth": 0,
              "ticks": ""
             }
            },
            "type": "scatterternary"
           }
          ],
          "surface": [
           {
            "colorbar": {
             "outlinewidth": 0,
             "ticks": ""
            },
            "colorscale": [
             [
              0,
              "#0d0887"
             ],
             [
              0.1111111111111111,
              "#46039f"
             ],
             [
              0.2222222222222222,
              "#7201a8"
             ],
             [
              0.3333333333333333,
              "#9c179e"
             ],
             [
              0.4444444444444444,
              "#bd3786"
             ],
             [
              0.5555555555555556,
              "#d8576b"
             ],
             [
              0.6666666666666666,
              "#ed7953"
             ],
             [
              0.7777777777777778,
              "#fb9f3a"
             ],
             [
              0.8888888888888888,
              "#fdca26"
             ],
             [
              1,
              "#f0f921"
             ]
            ],
            "type": "surface"
           }
          ],
          "table": [
           {
            "cells": {
             "fill": {
              "color": "#EBF0F8"
             },
             "line": {
              "color": "white"
             }
            },
            "header": {
             "fill": {
              "color": "#C8D4E3"
             },
             "line": {
              "color": "white"
             }
            },
            "type": "table"
           }
          ]
         },
         "layout": {
          "annotationdefaults": {
           "arrowcolor": "#2a3f5f",
           "arrowhead": 0,
           "arrowwidth": 1
          },
          "autotypenumbers": "strict",
          "coloraxis": {
           "colorbar": {
            "outlinewidth": 0,
            "ticks": ""
           }
          },
          "colorscale": {
           "diverging": [
            [
             0,
             "#8e0152"
            ],
            [
             0.1,
             "#c51b7d"
            ],
            [
             0.2,
             "#de77ae"
            ],
            [
             0.3,
             "#f1b6da"
            ],
            [
             0.4,
             "#fde0ef"
            ],
            [
             0.5,
             "#f7f7f7"
            ],
            [
             0.6,
             "#e6f5d0"
            ],
            [
             0.7,
             "#b8e186"
            ],
            [
             0.8,
             "#7fbc41"
            ],
            [
             0.9,
             "#4d9221"
            ],
            [
             1,
             "#276419"
            ]
           ],
           "sequential": [
            [
             0,
             "#0d0887"
            ],
            [
             0.1111111111111111,
             "#46039f"
            ],
            [
             0.2222222222222222,
             "#7201a8"
            ],
            [
             0.3333333333333333,
             "#9c179e"
            ],
            [
             0.4444444444444444,
             "#bd3786"
            ],
            [
             0.5555555555555556,
             "#d8576b"
            ],
            [
             0.6666666666666666,
             "#ed7953"
            ],
            [
             0.7777777777777778,
             "#fb9f3a"
            ],
            [
             0.8888888888888888,
             "#fdca26"
            ],
            [
             1,
             "#f0f921"
            ]
           ],
           "sequentialminus": [
            [
             0,
             "#0d0887"
            ],
            [
             0.1111111111111111,
             "#46039f"
            ],
            [
             0.2222222222222222,
             "#7201a8"
            ],
            [
             0.3333333333333333,
             "#9c179e"
            ],
            [
             0.4444444444444444,
             "#bd3786"
            ],
            [
             0.5555555555555556,
             "#d8576b"
            ],
            [
             0.6666666666666666,
             "#ed7953"
            ],
            [
             0.7777777777777778,
             "#fb9f3a"
            ],
            [
             0.8888888888888888,
             "#fdca26"
            ],
            [
             1,
             "#f0f921"
            ]
           ]
          },
          "colorway": [
           "#636efa",
           "#EF553B",
           "#00cc96",
           "#ab63fa",
           "#FFA15A",
           "#19d3f3",
           "#FF6692",
           "#B6E880",
           "#FF97FF",
           "#FECB52"
          ],
          "font": {
           "color": "#2a3f5f"
          },
          "geo": {
           "bgcolor": "white",
           "lakecolor": "white",
           "landcolor": "#E5ECF6",
           "showlakes": true,
           "showland": true,
           "subunitcolor": "white"
          },
          "hoverlabel": {
           "align": "left"
          },
          "hovermode": "closest",
          "mapbox": {
           "style": "light"
          },
          "paper_bgcolor": "white",
          "plot_bgcolor": "#E5ECF6",
          "polar": {
           "angularaxis": {
            "gridcolor": "white",
            "linecolor": "white",
            "ticks": ""
           },
           "bgcolor": "#E5ECF6",
           "radialaxis": {
            "gridcolor": "white",
            "linecolor": "white",
            "ticks": ""
           }
          },
          "scene": {
           "xaxis": {
            "backgroundcolor": "#E5ECF6",
            "gridcolor": "white",
            "gridwidth": 2,
            "linecolor": "white",
            "showbackground": true,
            "ticks": "",
            "zerolinecolor": "white"
           },
           "yaxis": {
            "backgroundcolor": "#E5ECF6",
            "gridcolor": "white",
            "gridwidth": 2,
            "linecolor": "white",
            "showbackground": true,
            "ticks": "",
            "zerolinecolor": "white"
           },
           "zaxis": {
            "backgroundcolor": "#E5ECF6",
            "gridcolor": "white",
            "gridwidth": 2,
            "linecolor": "white",
            "showbackground": true,
            "ticks": "",
            "zerolinecolor": "white"
           }
          },
          "shapedefaults": {
           "line": {
            "color": "#2a3f5f"
           }
          },
          "ternary": {
           "aaxis": {
            "gridcolor": "white",
            "linecolor": "white",
            "ticks": ""
           },
           "baxis": {
            "gridcolor": "white",
            "linecolor": "white",
            "ticks": ""
           },
           "bgcolor": "#E5ECF6",
           "caxis": {
            "gridcolor": "white",
            "linecolor": "white",
            "ticks": ""
           }
          },
          "title": {
           "x": 0.05
          },
          "xaxis": {
           "automargin": true,
           "gridcolor": "white",
           "linecolor": "white",
           "ticks": "",
           "title": {
            "standoff": 15
           },
           "zerolinecolor": "white",
           "zerolinewidth": 2
          },
          "yaxis": {
           "automargin": true,
           "gridcolor": "white",
           "linecolor": "white",
           "ticks": "",
           "title": {
            "standoff": 15
           },
           "zerolinecolor": "white",
           "zerolinewidth": 2
          }
         }
        },
        "title": {
         "font": {
          "size": 20
         },
         "text": "Chronologie des événements marquants en IA"
        },
        "width": 1000,
        "xaxis": {
         "range": [
          -3,
          3
         ],
         "showgrid": false,
         "showticklabels": false,
         "zeroline": false
        },
        "yaxis": {
         "autorange": "reversed",
         "gridcolor": "LightGray",
         "gridwidth": 1,
         "showgrid": true,
         "tickfont": {
          "size": 14
         },
         "title": {
          "font": {
           "size": 16
          },
          "text": "Date"
         }
        }
       }
      }
     },
     "metadata": {},
     "output_type": "display_data"
    }
   ],
   "source": [
    "import pandas as pd\n",
    "import plotly.graph_objects as go\n",
    "from textwrap import wrap\n",
    "\n",
    "# Création du dataframe avec une colonne supplémentaire pour les détails\n",
    "data = pd.DataFrame([\n",
    "    dict(\n",
    "        Événement=\"Annonce de l'implantation d'une puce Neuralink dans un cerveau humain\", \n",
    "        Début=\"2024\",\n",
    "        Détails=\"Premier patient reçoit un implant cérébral Neuralink.<br><a style='color: #00ffff;' href='https://neuralink.com'>→ En savoir plus sur neuralink.com</a>\"\n",
    "    ),\n",
    "])\n",
    "data.loc[len(data)] = dict(\n",
    "    Événement=\"Publication de l'article 'Attention is all you need'\",\n",
    "    Début=\"2017\",\n",
    "    Détails=\"Article fondateur sur l'architecture des transformeurs par Vaswani et al.<br><a style='color: #00ffff;' href='https://doi.org/10.48550/arXiv.1706.03762'>→ Lire l'article original</a>\"\n",
    ")\n",
    "data.loc[len(data)] = dict(\n",
    "    Événement=\"Joseph Weizenbaum lance le programme ELIZA\",\n",
    "    Début=\"1966\",\n",
    "    Détails=\"Premier chatbot simulant un psychothérapeute.<br><a style='color: #00ffff;' href='https://wikipedia.org/wiki/ELIZA'>→ Article Wikipedia sur ELIZA</a>\"\n",
    ")\n",
    "data.loc[len(data)] = dict(\n",
    "    Événement=\"Lancement du robot conversationnel Parry\",\n",
    "    Début=\"1972\",\n",
    "    Détails=\"Chatbot simulant un patient paranoïaque, créé par Kenneth Colby.<br><a style='color: #00ffff;' href='https://wikipedia.org/wiki/PARRY'>→ Article Wikipedia sur PARRY</a>\"\n",
    ")\n",
    "data.loc[len(data)] = dict(\n",
    "    Événement=\"Turing traite du « jeu d'imitation »\",\n",
    "    Début=\"1950\",\n",
    "    Détails=\"Publication de 'Computing Machinery and Intelligence'.<br><a style='color: #00ffff;' href='https://doi.org/10.1093/mind/LIX.236.433'>→ Consulter l'article original</a>\"\n",
    ")\n",
    "\n",
    "# Conversion des dates en format datetime\n",
    "data['Début'] = pd.to_datetime(data['Début'])\n",
    "\n",
    "# Tri des données par date\n",
    "data = data.sort_values('Début')\n",
    "\n",
    "# Wrapping du texte des événements\n",
    "data['Événement'] = data['Événement'].apply(lambda x: '<br>'.join(wrap(x, width=30)))\n",
    "\n",
    "# Création des positions alternées pour les textes\n",
    "positions = ['middle right', 'middle left'] * (len(data) // 2 + 1)\n",
    "positions = positions[:len(data)]\n",
    "\n",
    "# Position opposée pour le hover (si le texte est à droite, le hover sera à gauche et vice versa)\n",
    "hover_alignments = ['left' if pos == 'middle right' else 'right' for pos in positions]\n",
    "\n",
    "# Création du graphique\n",
    "fig = go.Figure()\n",
    "\n",
    "# Ajout des points et textes\n",
    "for i, row in enumerate(data.itertuples()):\n",
    "    fig.add_trace(go.Scatter(\n",
    "        y=[row.Début],\n",
    "        x=[0],\n",
    "        mode='markers+text',\n",
    "        marker=dict(size=12, symbol='circle'),\n",
    "        text=[row.Événement],\n",
    "        textposition=positions[i],\n",
    "        textfont=dict(size=14),\n",
    "        showlegend=False,\n",
    "        hovertemplate=\"%{customdata}<br><b>%{y|%Y}</b><extra></extra>\",\n",
    "        customdata=[row.Détails],\n",
    "        hoverlabel=dict(\n",
    "            bgcolor='rgba(0,0,0,0.8)',\n",
    "            align=hover_alignments[i]  # Position alternée du hover\n",
    "        ),\n",
    "    ))\n",
    "\n",
    "# Ajout de la ligne verticale\n",
    "fig.add_trace(go.Scatter(\n",
    "    y=[data['Début'].min(), data['Début'].max()],\n",
    "    x=[0, 0],\n",
    "    mode='lines',\n",
    "    line=dict(color='black', width=1),\n",
    "    showlegend=False,\n",
    "    hoverinfo='skip'\n",
    "))\n",
    "\n",
    "# Personnalisation du graphique\n",
    "fig.update_layout(\n",
    "    title=dict(\n",
    "        text=\"Chronologie des événements marquants en IA\",\n",
    "        font=dict(size=20)\n",
    "    ),\n",
    "    width=1000,\n",
    "    height=800,\n",
    "    plot_bgcolor='white',\n",
    "    xaxis=dict(\n",
    "        showgrid=False,\n",
    "        zeroline=False,\n",
    "        showticklabels=False,\n",
    "        range=[-3, 3]\n",
    "    ),\n",
    "    yaxis=dict(\n",
    "        title=\"Date\",\n",
    "        title_font=dict(size=16),\n",
    "        tickfont=dict(size=14),\n",
    "        showgrid=True,\n",
    "        gridwidth=1,\n",
    "        gridcolor='LightGray',\n",
    "        autorange=\"reversed\"\n",
    "    ),\n",
    "    hoverlabel=dict(\n",
    "        font_size=14,\n",
    "    ),\n",
    "    hovermode='closest',\n",
    "    hoverdistance=100,\n",
    "    clickmode='event+select',  # Rend le hover persistant jusqu'au prochain clic\n",
    ")\n",
    "\n",
    "# Affichage du graphique\n",
    "fig.show()"
   ]
  }
 ],
 "metadata": {
  "kernelspec": {
   "display_name": "3.9.18",
   "language": "python",
   "name": "python3"
  },
  "language_info": {
   "codemirror_mode": {
    "name": "ipython",
    "version": 3
   },
   "file_extension": ".py",
   "mimetype": "text/x-python",
   "name": "python",
   "nbconvert_exporter": "python",
   "pygments_lexer": "ipython3",
   "version": "3.9.18"
  }
 },
 "nbformat": 4,
 "nbformat_minor": 2
}
