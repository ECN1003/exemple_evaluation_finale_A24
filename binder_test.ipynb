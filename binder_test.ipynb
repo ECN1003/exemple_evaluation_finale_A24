{
 "cells": [
  {
   "cell_type": "markdown",
   "metadata": {},
   "source": [
    "<img style =\"float:right;display:inline;z-index:0;margin-right:5rem\"\n",
    "src=\"./UOF-logo.png\" alt-text=\"Logo de l'UOF, université innovante\">\n",
    "<h1 style=\"margin:auto;max-width:50rem;text-align:center\">Ligne de temps générative <br> des technologies numériques</h1>"
   ]
  },
  {
   "cell_type": "markdown",
   "metadata": {},
   "source": [
    "<h2 style=\"margin:auto;max-width:50rem;text-align:center\">\n",
    "L'évolution et les enjeux des agents d'IA conversationnelle \n",
    "</h2>"
   ]
  },
  {
   "cell_type": "markdown",
   "metadata": {},
   "source": [
    "<h4 style=\"margin:auto;max-width:50rem;text-align:center;line-height:1.5\">Travail assisté par IA générative (ChatGPT) réalisé dans le cadre du cours <br><em>ECN1003: Introduction aux technologies numériques</em>, <br> Session d'automne 2024\n",
    "<br>Professeure responsable du cours: Sarah Choukah</h4>\n"
   ]
  },
  {
   "cell_type": "markdown",
   "metadata": {},
   "source": [
    "Par : Sarah Choukah\n",
    "\n",
    "Date : 11 décembre 2024"
   ]
  },
  {
   "cell_type": "markdown",
   "metadata": {},
   "source": [
    "## Introduction "
   ]
  },
  {
   "cell_type": "markdown",
   "metadata": {},
   "source": [
    "Ce document est une initiative exploratoire visant à documenter du\n",
    "travail avec de l'IA générative dans la collecte et l'analyse de\n",
    "dates et données historiques marquantes des technologies numériques. \n",
    "\n",
    "Les données seront graduellement collectées, documentées et insérées dans une ligne de\n",
    "temps à l'aide des libraries Python [Pandas](https://pandas.pydata.org/docs/) et\n",
    "[Plotly Express](https://plotly.com/python/)."
   ]
  },
  {
   "cell_type": "code",
   "execution_count": 2,
   "metadata": {},
   "outputs": [],
   "source": [
    "# Nos première lignes servent à l'importation des deux librairies Plotly\n",
    "# Express et Pandas. \n",
    "import plotly.express as px\n",
    "import pandas as pd"
   ]
  },
  {
   "cell_type": "markdown",
   "metadata": {},
   "source": [
    "Pour construire cette ligne de temps, je me suis penchée sur l'histoire des\n",
    "agents conversationnels. Je suis très intéressée par les multiples\n",
    "façons dont les humains et les machines ont communiqué à travers les\n",
    "âges. Je trouve aussi\n",
    "l'étude des modes de communication que les humains ont développé avec\n",
    "des non-humains fascinante. À travers ce type de communication, les\n",
    "humains sont arrivés à contrôler et à cultiver des relations importantes\n",
    "avec des entités qui ne\n",
    "leur ressemblent en rien, et dont\n",
    "les propriétés sont en constante évolution. \n",
    "\n",
    "Pour moi, l'idée de créer\n",
    "des agents conversationnels tels que ceux qui se présentent sous la\n",
    "forme de robots apporte autant d'immenses promesses que des périls. \n",
    "\n",
    "J'ai initialement interrogé ChatGPT avec les instructions suivantes: \n",
    "\n",
    "<img src=\"./prompt_example_ChatGPT.png\" style=\"width: 50%; display: block;\n",
    "margin: 0 auto; padding: 45\" alt=\"Capture d'écran de l'instruction fournie à\n",
    "ChatGPT\">\n",
    "\n",
    "<br>\n",
    "\n",
    "<p>À ces instructions, ChatGPT à répondu avec des références vers des liens\n",
    "non-cliquables, ce que je lui ai demandé de corriger : </p>\n",
    "\n",
    "« Pourrais- tu me donner des liens cliquables stp ? »\n",
    "\n",
    "Les liens cette fois étaient définitivement cliquables, mais il menaient\n",
    "vers des publications qui n'étaient pas pertinentes. Voici le [lien vers\n",
    "la discussion entière que j'ai\n",
    "eue](https://chatgpt.com/share/675a8d97-3628-800d-bf5f-4f73071f30c7).\n",
    "\n",
    "Cela dit, j'ai lu assez de la réponse initiale pour aussi mes propres\n",
    "idées. Lire sur le programme ELIZA de Joseph Weizenbum, ainsi que sur\n",
    "d'autres prototypes et programmes d'agents conversationnels, m'a fait\n",
    "m'interroger sur les possibilités de créer des interfaces directement\n",
    "connectées au cerveau humain plutôt que via des interfaces d'ordinateurs. "
   ]
  },
  {
   "cell_type": "markdown",
   "metadata": {},
   "source": [
    "## Événements historiques sélectionnés et sources choisies"
   ]
  },
  {
   "cell_type": "markdown",
   "metadata": {},
   "source": [
    "Voici la première des cinq dates que j'ai trouvé à partir de ces\n",
    "recommandations et réflexions initiales.\n",
    "\n",
    "#### Développement de l'interface humain-cerveau sans fil de la compagnie Neuralink et première implantation dans un cerveau de porc en août 2020;\n",
    "\n",
    "Neuralink, une des compagnies d'Elon Musk, annonce au mois d'août 2020\n",
    "qu'elle a implanté un dispositif servant d'interface dans le cerveau\n",
    "de plusieurs porcs. Après avoir fait une recherche sommaire sur cet\n",
    "événement en ligne, je constate que la nouvelle semble avoir été abondamment relayée. Elle\n",
    "a été soulignée\n",
    "dans les milieux des hautes technologies, de l'ingénierie, et de la\n",
    "médecine, entre autres. J'ai choisi 👉 [ce commentaire publié dans la revue\n",
    "Scientific American\n",
    "](https://www.scientificamerican.com/article/elon-musks-pig-brain-implant-is-still-a-long-way-from-solving-paralysis/)\n",
    "pour en traiter. Ce commentaire nous renseigne sur les éléments les plus\n",
    "importants de la démonstration de prouesse technologique, tout en soulignant qu'il s'agissait d'une\n",
    "démonstration visant, selon les dires de Musk, à attirer des talents. \n",
    "\n",
    "J'ai choisi cette date parce que, bien que cela ne semble pas évident au\n",
    "premier regard, je vois des liens forts entre le développement les plus\n",
    "récents des interfaces humains-cerveau et la montée en croissance très\n",
    "rapide d'agents conversationnels. Je pense que, dans un avenir pas si\n",
    "lointain, il sera possible d'implanter des puces microscopiques capables\n",
    "de relier des agents conversationnels avec des cerveaux. Des prototypes\n",
    "de micropuces\n",
    "capables de connecter des cerveaux human à Internet et de transmettre de l'information\n",
    "dans les deux sens,\n",
    "directement à ces cerveaux, sont désormais possibles. D'ailleurs, elles existent\n",
    "déjà sous la forme d'une démonstration initiale, également très médiatisée, capable de transmettre de l'information\n",
    "sans fil directement. C'est ce qu'à fait la compagnie d'Elon Musk 👉 [le 29\n",
    "janvier\n",
    "dernier](https://www.reuters.com/technology/neuralink-implants-brain-chip-first-human-musk-says-2024-01-29/)\n",
    "avec de premier essais cliniques d'implantation sur des êtres humains. "
   ]
  },
  {
   "cell_type": "code",
   "execution_count": 3,
   "metadata": {},
   "outputs": [],
   "source": [
    "# Créons une structure de données Pandas de type « DataFrame », qui\n",
    "# contiendra un « dictionnaire » avec les données que nous souhaitons utiliser.\n",
    "\n",
    "# La notation utilisée suivra les exemples fournis dans la documentation\n",
    "# des libraries\n",
    "# Python. \n",
    "\n",
    "data = pd.DataFrame([\n",
    "    dict(Événement=\"Annonce de l'implantation d'une puce Neuralink dans un cerveau humain\", Début=\"2024-01-29\", Fin=\"2024-01-29\"),\n",
    "])"
   ]
  },
  {
   "cell_type": "markdown",
   "metadata": {},
   "source": [
    "Une fois cette date commentée, je suis retournée sur ChatGPT pour continuer mon\n",
    "exploration critique de sources. Et j'ai consulté à nouveau les\n",
    "références cliquables pour me rendre compte qu'elles étaient non\n",
    "seulement en manque de pertinence, mais que le texte généré comme\n",
    "description comportait des erreurs. J'ai relevé la chose auprès du\n",
    "*chatbot*:\n",
    "\n",
    "<img src=\"Tu_te_trompes.png\" alt=\"capture d'écran où j'indique que\n",
    "ChatGPT se trompe\" width=\"50%\">\n",
    "\n",
    "ChatGPT n'a pas hésité à demander pardon avant de me trouver d'autres références: \n",
    "\n",
    "<p style=\"margin:auto;max-width:50%;background-color:#e0e0e0;padding:20px;\">« Merci pour votre observation, et vous avez tout à fait raison. Les\n",
    "deux articles que j’ai cités ne contiennent pas d’analyse historique\n",
    "exhaustive, ni ne mentionnent des jalons comme ELIZA ou ALICE [...]\n",
    "Voici quelques informations issues de recherches académiques récentes\n",
    "qui pourraient répondre à vos attentes et éclairer les événements\n",
    "historiques clés dans l’évolution des agents conversationnels ». </p>"
   ]
  },
  {
   "cell_type": "markdown",
   "metadata": {},
   "source": [
    "#### Publication de l'article *Attention is all you need* (Vaswani et al. 2017)\n",
    "\n",
    "J'ai continué mon exploration. De fil en aiguille, j'ai trouvé d'autres\n",
    "références très intéressantes. Dans <a href=\"https://news.mit.edu/2023/explained-generative-ai-1109\">cet article</a> d'Adam Zewe, 2017\n",
    "apparaît comme une date cruciale pour le développement d'IA génératives\n",
    "et donc, par extension, des agents conversationnels. Cette date\n",
    "correspond à la publication d'un article intitulé « *Attention is all you\n",
    "need* » par une équipe de chercheur.e.s de l'équipe derrière Google\n",
    "Deepmind. Dans cet article, une nouvelle architecture est proposée pour\n",
    "accélérer radicalement le temps passé à entraîner des grands modèles de\n",
    "langage (Zewe, 2023)."
   ]
  },
  {
   "cell_type": "markdown",
   "metadata": {},
   "source": [
    "#### Ajout de ma seconde date dans le tableau DataFrame Python\n",
    "\n",
    "Pour ajouter ma seconde date, j'ai demandé de l'aide à ChatGPT de la\n",
    "manière suivante:\n",
    "\n",
    "<i>« J'ai un DataFrame python auquel je veux ajouter un dictionnaire dans\n",
    "un cahier interactif Python. \n",
    "\n",
    "Voici mon Dataframe  \n",
    "\n",
    "\"\"\"\n",
    "data = pd.DataFrame([\n",
    "    dict(Événement=\"Annonce de l'implantation d'une puce Neuralink dans un cerveau humain\", Début=\"2024-01-29\", Fin=\"2024-01-29\"),\n",
    "])\n",
    "\"\"\"\n",
    "\n",
    "Montres-moi comment ajouter un nouveau dictionnaire dans une autre\n",
    "cellule. »</i>\n",
    "\n",
    "Après avoir obtenu la réponse, j'ai choisi la méthode la plus\n",
    "performante, qui utilise la méthode `loc`"
   ]
  },
  {
   "cell_type": "code",
   "execution_count": 4,
   "metadata": {},
   "outputs": [],
   "source": [
    "# Ajoutons la nouvelle date avec `loc`,\n",
    "# qui, selon la documentation Python affichée lorsqu'on glisse le\n",
    "# curseur sur la méthode,\n",
    "# \"permettent d'accéder à un groupe de rangées et colonnes par\n",
    "# étiquettes ou par une boolénne\".\n",
    "data.loc[len(data)] = dict(\n",
    "    Événement=\"Publication de l'article 'Attention is all you need' sur l'architecture des transformeurs IA\",\n",
    "    Début=\"2017\",\n",
    "    Fin=\"2017\"\n",
    ")"
   ]
  },
  {
   "cell_type": "markdown",
   "metadata": {},
   "source": [
    "<h4>Le programme psychothérapeute ELIZA: 1966</h4>"
   ]
  },
  {
   "cell_type": "markdown",
   "metadata": {},
   "source": [
    "Je me suis aussi souvenue d'avoir déjà lu sur ELIZA, un des premiers\n",
    "*chatbots* à avoir été rendu public selon Md. Al-Amin et al. (2024). Conçu par\n",
    "Joseph Weizenbaum en 1966, ELIZA était\n",
    "un programme texte interactif qui simulait\n",
    "une thérapeute avec certaines phrases pré-programmées. ELIZA a marqué le\n",
    "développement technique des agents conversationnels : « Son\n",
    "fonctionnement reposait sur la reconnaissance de mots-clés et de schémas\n",
    "pour sélectionner des modèles de réponses prédéterminés. Il analysait le\n",
    "texte saisi par l'utilisateur à la recherche de mots-clés et de schémas\n",
    "reconnus, puis substituait ces mots-clés dans les modèles de réponses\n",
    "correspondants pour générer automatiquement des réponses. » (*Ibid*, p.\n",
    "6, traduction via Google Gemini Flash 1.5). "
   ]
  },
  {
   "cell_type": "code",
   "execution_count": 5,
   "metadata": {},
   "outputs": [],
   "source": [
    "data.loc[len(data)] = dict(\n",
    "    Événement=\"Joseph Weizenbaum lance le programme ELIZA\",\n",
    "    Début=\"1966\",\n",
    "    Fin=\"1966\"\n",
    ")"
   ]
  },
  {
   "cell_type": "markdown",
   "metadata": {},
   "source": [
    "ELIZA a d'autant plus piqué ma curiosité lorsque j'ai pris connaissance\n",
    "de son rapport avec le test de Turing. Le concepteur de ce test, Alan\n",
    "Turing, en a formulé les grandes lignes dans un article publié en 1950\n",
    "dans le revue *Mind* (Turing, 1950). Plusieurs agents conversationnels,\n",
    "dont ELIZA, ont été à soumis à ce test, souvent avec des résultats\n",
    "ambivalents ou débattus (Orf, 2023). "
   ]
  },
  {
   "cell_type": "code",
   "execution_count": 6,
   "metadata": {},
   "outputs": [],
   "source": [
    "# Transformons aussi cette publication en dictionnaire et ajoutons-le\n",
    "# avec la méthode `loc`, que nous connaissons déjà mieux.\n",
    "data.loc[len(data)] = dict(\n",
    "    Événement=\"Turing traite du « jeu d'imitation » qui sera plus tard connu sous le nom de Test de Turing\",\n",
    "    Début=\"1950\",\n",
    "    Fin=\"1950\"\n",
    ")"
   ]
  },
  {
   "cell_type": "markdown",
   "metadata": {},
   "source": [
    "Pour le dernier évènement, et pour mieux balancer la répartition des\n",
    "événements sur ma ligne, j'ai souhaité regarder davantage dans le coin\n",
    "des années 1970 à 1990 environs.\n",
    "\n",
    "Cela dit, cette fois, j'ai fait une petite recherche en partant des\n",
    "ressources disponibles à la bibliothèque de l'UOF. Sans *prompts*\n",
    "très précis, rédigés avec beaucoup de soin et à travers de multiples\n",
    "itérations, consulter ChatGPT\n",
    "pour obtenir des sources valides s'avère frustrant. Et tant qu'à passer\n",
    "des heures à taper des instructions à une IA générative, pourquoi ne pas\n",
    "plutôt s'économiser l'effort et aller chercher du côté de ressources\n",
    "spécialisés faites exactement pour le genre d'exercice auquel je me\n",
    "prête ? ChatGPT a confirmé. \n",
    "\n",
    "<img src=\"ChatGPT_est_nul.png\" style=\"margin:auto;max-width:60%;display:block;\" alt=\"Capture d'écran d'une dernière\n",
    "conversation où ChatGPT me dit que c'est bien mieux de chercher dans les\n",
    "bases de données.\">"
   ]
  },
  {
   "cell_type": "markdown",
   "metadata": {},
   "source": [
    "<h4>Création de Parry par Kenneth Colby en 1972</h4>\n",
    "\n",
    "Une petite recherche sur CAIRN info avec les termes « Histoire IA\n",
    "conversationnelle » me permet de trouver une référence très pertinente :\n",
    "la conception de l'agent conversationnel Parry par Kenneth Colby,\n",
    "psychiatre et chercheur à l'Université Stanford. L'auteur de l'article\n",
    "qui en fait mention, Xavier Aimé, note que Parry était un programme « dont l’objet était cette\n",
    "fois de modéliser le comportement d’un sujet atteint de schizophrénie\n",
    "paranoïde » (2017, p. 53). \n",
    "\n",
    "Voilà, maintenant ajoutons cette dernière date sous forme de\n",
    "dictionnaire à la ligne de temps."
   ]
  },
  {
   "cell_type": "code",
   "execution_count": 7,
   "metadata": {},
   "outputs": [],
   "source": [
    "data.loc[len(data)] = dict(\n",
    "    Événement=\"Lancement du robot conversationnel Parry\",\n",
    "    Début=\"1972\",\n",
    "    Fin=\"1972\"\n",
    ")"
   ]
  },
  {
   "cell_type": "markdown",
   "metadata": {},
   "source": [
    "<h3>Création de la ligne de temps avec assistance IA</h3>"
   ]
  },
  {
   "cell_type": "markdown",
   "metadata": {},
   "source": []
  },
  {
   "cell_type": "code",
   "execution_count": 8,
   "metadata": {},
   "outputs": [
    {
     "data": {
      "application/vnd.plotly.v1+json": {
       "config": {
        "plotlyServerURL": "https://plot.ly"
       },
       "data": [
        {
         "customdata": [
          "Publication de 'Computing Machinery and Intelligence'.<br><a style='color: #00ffff;' href='https://doi.org/10.1093/mind/LIX.236.433'>→ Consulter l'article original</a>"
         ],
         "hoverlabel": {
          "align": "left",
          "bgcolor": "rgba(0,0,0,0.8)"
         },
         "hovertemplate": "%{customdata}<br><b>%{y|%Y}</b><extra></extra>",
         "marker": {
          "size": 12,
          "symbol": "circle"
         },
         "mode": "markers+text",
         "showlegend": false,
         "text": [
          "Turing traite du « jeu<br>d'imitation »"
         ],
         "textfont": {
          "size": 14
         },
         "textposition": "middle right",
         "type": "scatter",
         "x": [
          0
         ],
         "y": [
          "1950-01-01T00:00:00"
         ]
        },
        {
         "customdata": [
          "Premier chatbot simulant un psychothérapeute.<br><a style='color: #00ffff;' href='https://wikipedia.org/wiki/ELIZA'>→ Article Wikipedia sur ELIZA</a>"
         ],
         "hoverlabel": {
          "align": "right",
          "bgcolor": "rgba(0,0,0,0.8)"
         },
         "hovertemplate": "%{customdata}<br><b>%{y|%Y}</b><extra></extra>",
         "marker": {
          "size": 12,
          "symbol": "circle"
         },
         "mode": "markers+text",
         "showlegend": false,
         "text": [
          "Joseph Weizenbaum lance le<br>programme ELIZA"
         ],
         "textfont": {
          "size": 14
         },
         "textposition": "middle left",
         "type": "scatter",
         "x": [
          0
         ],
         "y": [
          "1966-01-01T00:00:00"
         ]
        },
        {
         "customdata": [
          "Chatbot simulant un patient paranoïaque, créé par Kenneth Colby.<br><a style='color: #00ffff;' href='https://wikipedia.org/wiki/PARRY'>→ Article Wikipedia sur PARRY</a>"
         ],
         "hoverlabel": {
          "align": "left",
          "bgcolor": "rgba(0,0,0,0.8)"
         },
         "hovertemplate": "%{customdata}<br><b>%{y|%Y}</b><extra></extra>",
         "marker": {
          "size": 12,
          "symbol": "circle"
         },
         "mode": "markers+text",
         "showlegend": false,
         "text": [
          "Lancement du robot<br>conversationnel Parry"
         ],
         "textfont": {
          "size": 14
         },
         "textposition": "middle right",
         "type": "scatter",
         "x": [
          0
         ],
         "y": [
          "1972-01-01T00:00:00"
         ]
        },
        {
         "customdata": [
          "Article fondateur sur l'architecture des transformeurs par Vaswani et al.<br><a style='color: #00ffff;' href='https://doi.org/10.48550/arXiv.1706.03762'>→ Lire l'article original</a>"
         ],
         "hoverlabel": {
          "align": "right",
          "bgcolor": "rgba(0,0,0,0.8)"
         },
         "hovertemplate": "%{customdata}<br><b>%{y|%Y}</b><extra></extra>",
         "marker": {
          "size": 12,
          "symbol": "circle"
         },
         "mode": "markers+text",
         "showlegend": false,
         "text": [
          "Publication de l'article<br>'Attention is all you need'"
         ],
         "textfont": {
          "size": 14
         },
         "textposition": "middle left",
         "type": "scatter",
         "x": [
          0
         ],
         "y": [
          "2017-01-01T00:00:00"
         ]
        },
        {
         "customdata": [
          "Premier patient reçoit un implant cérébral Neuralink.<br><a style='color: #00ffff;' href='https://neuralink.com'>→ En savoir plus sur neuralink.com</a>"
         ],
         "hoverlabel": {
          "align": "left",
          "bgcolor": "rgba(0,0,0,0.8)"
         },
         "hovertemplate": "%{customdata}<br><b>%{y|%Y}</b><extra></extra>",
         "marker": {
          "size": 12,
          "symbol": "circle"
         },
         "mode": "markers+text",
         "showlegend": false,
         "text": [
          "Annonce de l'implantation<br>d'une puce Neuralink dans un<br>cerveau humain"
         ],
         "textfont": {
          "size": 14
         },
         "textposition": "middle right",
         "type": "scatter",
         "x": [
          0
         ],
         "y": [
          "2024-01-01T00:00:00"
         ]
        },
        {
         "hoverinfo": "skip",
         "line": {
          "color": "black",
          "width": 1
         },
         "mode": "lines",
         "showlegend": false,
         "type": "scatter",
         "x": [
          0,
          0
         ],
         "y": [
          "1950-01-01T00:00:00",
          "2024-01-01T00:00:00"
         ]
        }
       ],
       "layout": {
        "clickmode": "event+select",
        "height": 800,
        "hoverdistance": 100,
        "hoverlabel": {
         "font": {
          "size": 14
         }
        },
        "hovermode": "closest",
        "plot_bgcolor": "white",
        "template": {
         "data": {
          "bar": [
           {
            "error_x": {
             "color": "#2a3f5f"
            },
            "error_y": {
             "color": "#2a3f5f"
            },
            "marker": {
             "line": {
              "color": "#E5ECF6",
              "width": 0.5
             },
             "pattern": {
              "fillmode": "overlay",
              "size": 10,
              "solidity": 0.2
             }
            },
            "type": "bar"
           }
          ],
          "barpolar": [
           {
            "marker": {
             "line": {
              "color": "#E5ECF6",
              "width": 0.5
             },
             "pattern": {
              "fillmode": "overlay",
              "size": 10,
              "solidity": 0.2
             }
            },
            "type": "barpolar"
           }
          ],
          "carpet": [
           {
            "aaxis": {
             "endlinecolor": "#2a3f5f",
             "gridcolor": "white",
             "linecolor": "white",
             "minorgridcolor": "white",
             "startlinecolor": "#2a3f5f"
            },
            "baxis": {
             "endlinecolor": "#2a3f5f",
             "gridcolor": "white",
             "linecolor": "white",
             "minorgridcolor": "white",
             "startlinecolor": "#2a3f5f"
            },
            "type": "carpet"
           }
          ],
          "choropleth": [
           {
            "colorbar": {
             "outlinewidth": 0,
             "ticks": ""
            },
            "type": "choropleth"
           }
          ],
          "contour": [
           {
            "colorbar": {
             "outlinewidth": 0,
             "ticks": ""
            },
            "colorscale": [
             [
              0,
              "#0d0887"
             ],
             [
              0.1111111111111111,
              "#46039f"
             ],
             [
              0.2222222222222222,
              "#7201a8"
             ],
             [
              0.3333333333333333,
              "#9c179e"
             ],
             [
              0.4444444444444444,
              "#bd3786"
             ],
             [
              0.5555555555555556,
              "#d8576b"
             ],
             [
              0.6666666666666666,
              "#ed7953"
             ],
             [
              0.7777777777777778,
              "#fb9f3a"
             ],
             [
              0.8888888888888888,
              "#fdca26"
             ],
             [
              1,
              "#f0f921"
             ]
            ],
            "type": "contour"
           }
          ],
          "contourcarpet": [
           {
            "colorbar": {
             "outlinewidth": 0,
             "ticks": ""
            },
            "type": "contourcarpet"
           }
          ],
          "heatmap": [
           {
            "colorbar": {
             "outlinewidth": 0,
             "ticks": ""
            },
            "colorscale": [
             [
              0,
              "#0d0887"
             ],
             [
              0.1111111111111111,
              "#46039f"
             ],
             [
              0.2222222222222222,
              "#7201a8"
             ],
             [
              0.3333333333333333,
              "#9c179e"
             ],
             [
              0.4444444444444444,
              "#bd3786"
             ],
             [
              0.5555555555555556,
              "#d8576b"
             ],
             [
              0.6666666666666666,
              "#ed7953"
             ],
             [
              0.7777777777777778,
              "#fb9f3a"
             ],
             [
              0.8888888888888888,
              "#fdca26"
             ],
             [
              1,
              "#f0f921"
             ]
            ],
            "type": "heatmap"
           }
          ],
          "heatmapgl": [
           {
            "colorbar": {
             "outlinewidth": 0,
             "ticks": ""
            },
            "colorscale": [
             [
              0,
              "#0d0887"
             ],
             [
              0.1111111111111111,
              "#46039f"
             ],
             [
              0.2222222222222222,
              "#7201a8"
             ],
             [
              0.3333333333333333,
              "#9c179e"
             ],
             [
              0.4444444444444444,
              "#bd3786"
             ],
             [
              0.5555555555555556,
              "#d8576b"
             ],
             [
              0.6666666666666666,
              "#ed7953"
             ],
             [
              0.7777777777777778,
              "#fb9f3a"
             ],
             [
              0.8888888888888888,
              "#fdca26"
             ],
             [
              1,
              "#f0f921"
             ]
            ],
            "type": "heatmapgl"
           }
          ],
          "histogram": [
           {
            "marker": {
             "pattern": {
              "fillmode": "overlay",
              "size": 10,
              "solidity": 0.2
             }
            },
            "type": "histogram"
           }
          ],
          "histogram2d": [
           {
            "colorbar": {
             "outlinewidth": 0,
             "ticks": ""
            },
            "colorscale": [
             [
              0,
              "#0d0887"
             ],
             [
              0.1111111111111111,
              "#46039f"
             ],
             [
              0.2222222222222222,
              "#7201a8"
             ],
             [
              0.3333333333333333,
              "#9c179e"
             ],
             [
              0.4444444444444444,
              "#bd3786"
             ],
             [
              0.5555555555555556,
              "#d8576b"
             ],
             [
              0.6666666666666666,
              "#ed7953"
             ],
             [
              0.7777777777777778,
              "#fb9f3a"
             ],
             [
              0.8888888888888888,
              "#fdca26"
             ],
             [
              1,
              "#f0f921"
             ]
            ],
            "type": "histogram2d"
           }
          ],
          "histogram2dcontour": [
           {
            "colorbar": {
             "outlinewidth": 0,
             "ticks": ""
            },
            "colorscale": [
             [
              0,
              "#0d0887"
             ],
             [
              0.1111111111111111,
              "#46039f"
             ],
             [
              0.2222222222222222,
              "#7201a8"
             ],
             [
              0.3333333333333333,
              "#9c179e"
             ],
             [
              0.4444444444444444,
              "#bd3786"
             ],
             [
              0.5555555555555556,
              "#d8576b"
             ],
             [
              0.6666666666666666,
              "#ed7953"
             ],
             [
              0.7777777777777778,
              "#fb9f3a"
             ],
             [
              0.8888888888888888,
              "#fdca26"
             ],
             [
              1,
              "#f0f921"
             ]
            ],
            "type": "histogram2dcontour"
           }
          ],
          "mesh3d": [
           {
            "colorbar": {
             "outlinewidth": 0,
             "ticks": ""
            },
            "type": "mesh3d"
           }
          ],
          "parcoords": [
           {
            "line": {
             "colorbar": {
              "outlinewidth": 0,
              "ticks": ""
             }
            },
            "type": "parcoords"
           }
          ],
          "pie": [
           {
            "automargin": true,
            "type": "pie"
           }
          ],
          "scatter": [
           {
            "fillpattern": {
             "fillmode": "overlay",
             "size": 10,
             "solidity": 0.2
            },
            "type": "scatter"
           }
          ],
          "scatter3d": [
           {
            "line": {
             "colorbar": {
              "outlinewidth": 0,
              "ticks": ""
             }
            },
            "marker": {
             "colorbar": {
              "outlinewidth": 0,
              "ticks": ""
             }
            },
            "type": "scatter3d"
           }
          ],
          "scattercarpet": [
           {
            "marker": {
             "colorbar": {
              "outlinewidth": 0,
              "ticks": ""
             }
            },
            "type": "scattercarpet"
           }
          ],
          "scattergeo": [
           {
            "marker": {
             "colorbar": {
              "outlinewidth": 0,
              "ticks": ""
             }
            },
            "type": "scattergeo"
           }
          ],
          "scattergl": [
           {
            "marker": {
             "colorbar": {
              "outlinewidth": 0,
              "ticks": ""
             }
            },
            "type": "scattergl"
           }
          ],
          "scattermapbox": [
           {
            "marker": {
             "colorbar": {
              "outlinewidth": 0,
              "ticks": ""
             }
            },
            "type": "scattermapbox"
           }
          ],
          "scatterpolar": [
           {
            "marker": {
             "colorbar": {
              "outlinewidth": 0,
              "ticks": ""
             }
            },
            "type": "scatterpolar"
           }
          ],
          "scatterpolargl": [
           {
            "marker": {
             "colorbar": {
              "outlinewidth": 0,
              "ticks": ""
             }
            },
            "type": "scatterpolargl"
           }
          ],
          "scatterternary": [
           {
            "marker": {
             "colorbar": {
              "outlinewidth": 0,
              "ticks": ""
             }
            },
            "type": "scatterternary"
           }
          ],
          "surface": [
           {
            "colorbar": {
             "outlinewidth": 0,
             "ticks": ""
            },
            "colorscale": [
             [
              0,
              "#0d0887"
             ],
             [
              0.1111111111111111,
              "#46039f"
             ],
             [
              0.2222222222222222,
              "#7201a8"
             ],
             [
              0.3333333333333333,
              "#9c179e"
             ],
             [
              0.4444444444444444,
              "#bd3786"
             ],
             [
              0.5555555555555556,
              "#d8576b"
             ],
             [
              0.6666666666666666,
              "#ed7953"
             ],
             [
              0.7777777777777778,
              "#fb9f3a"
             ],
             [
              0.8888888888888888,
              "#fdca26"
             ],
             [
              1,
              "#f0f921"
             ]
            ],
            "type": "surface"
           }
          ],
          "table": [
           {
            "cells": {
             "fill": {
              "color": "#EBF0F8"
             },
             "line": {
              "color": "white"
             }
            },
            "header": {
             "fill": {
              "color": "#C8D4E3"
             },
             "line": {
              "color": "white"
             }
            },
            "type": "table"
           }
          ]
         },
         "layout": {
          "annotationdefaults": {
           "arrowcolor": "#2a3f5f",
           "arrowhead": 0,
           "arrowwidth": 1
          },
          "autotypenumbers": "strict",
          "coloraxis": {
           "colorbar": {
            "outlinewidth": 0,
            "ticks": ""
           }
          },
          "colorscale": {
           "diverging": [
            [
             0,
             "#8e0152"
            ],
            [
             0.1,
             "#c51b7d"
            ],
            [
             0.2,
             "#de77ae"
            ],
            [
             0.3,
             "#f1b6da"
            ],
            [
             0.4,
             "#fde0ef"
            ],
            [
             0.5,
             "#f7f7f7"
            ],
            [
             0.6,
             "#e6f5d0"
            ],
            [
             0.7,
             "#b8e186"
            ],
            [
             0.8,
             "#7fbc41"
            ],
            [
             0.9,
             "#4d9221"
            ],
            [
             1,
             "#276419"
            ]
           ],
           "sequential": [
            [
             0,
             "#0d0887"
            ],
            [
             0.1111111111111111,
             "#46039f"
            ],
            [
             0.2222222222222222,
             "#7201a8"
            ],
            [
             0.3333333333333333,
             "#9c179e"
            ],
            [
             0.4444444444444444,
             "#bd3786"
            ],
            [
             0.5555555555555556,
             "#d8576b"
            ],
            [
             0.6666666666666666,
             "#ed7953"
            ],
            [
             0.7777777777777778,
             "#fb9f3a"
            ],
            [
             0.8888888888888888,
             "#fdca26"
            ],
            [
             1,
             "#f0f921"
            ]
           ],
           "sequentialminus": [
            [
             0,
             "#0d0887"
            ],
            [
             0.1111111111111111,
             "#46039f"
            ],
            [
             0.2222222222222222,
             "#7201a8"
            ],
            [
             0.3333333333333333,
             "#9c179e"
            ],
            [
             0.4444444444444444,
             "#bd3786"
            ],
            [
             0.5555555555555556,
             "#d8576b"
            ],
            [
             0.6666666666666666,
             "#ed7953"
            ],
            [
             0.7777777777777778,
             "#fb9f3a"
            ],
            [
             0.8888888888888888,
             "#fdca26"
            ],
            [
             1,
             "#f0f921"
            ]
           ]
          },
          "colorway": [
           "#636efa",
           "#EF553B",
           "#00cc96",
           "#ab63fa",
           "#FFA15A",
           "#19d3f3",
           "#FF6692",
           "#B6E880",
           "#FF97FF",
           "#FECB52"
          ],
          "font": {
           "color": "#2a3f5f"
          },
          "geo": {
           "bgcolor": "white",
           "lakecolor": "white",
           "landcolor": "#E5ECF6",
           "showlakes": true,
           "showland": true,
           "subunitcolor": "white"
          },
          "hoverlabel": {
           "align": "left"
          },
          "hovermode": "closest",
          "mapbox": {
           "style": "light"
          },
          "paper_bgcolor": "white",
          "plot_bgcolor": "#E5ECF6",
          "polar": {
           "angularaxis": {
            "gridcolor": "white",
            "linecolor": "white",
            "ticks": ""
           },
           "bgcolor": "#E5ECF6",
           "radialaxis": {
            "gridcolor": "white",
            "linecolor": "white",
            "ticks": ""
           }
          },
          "scene": {
           "xaxis": {
            "backgroundcolor": "#E5ECF6",
            "gridcolor": "white",
            "gridwidth": 2,
            "linecolor": "white",
            "showbackground": true,
            "ticks": "",
            "zerolinecolor": "white"
           },
           "yaxis": {
            "backgroundcolor": "#E5ECF6",
            "gridcolor": "white",
            "gridwidth": 2,
            "linecolor": "white",
            "showbackground": true,
            "ticks": "",
            "zerolinecolor": "white"
           },
           "zaxis": {
            "backgroundcolor": "#E5ECF6",
            "gridcolor": "white",
            "gridwidth": 2,
            "linecolor": "white",
            "showbackground": true,
            "ticks": "",
            "zerolinecolor": "white"
           }
          },
          "shapedefaults": {
           "line": {
            "color": "#2a3f5f"
           }
          },
          "ternary": {
           "aaxis": {
            "gridcolor": "white",
            "linecolor": "white",
            "ticks": ""
           },
           "baxis": {
            "gridcolor": "white",
            "linecolor": "white",
            "ticks": ""
           },
           "bgcolor": "#E5ECF6",
           "caxis": {
            "gridcolor": "white",
            "linecolor": "white",
            "ticks": ""
           }
          },
          "title": {
           "x": 0.05
          },
          "xaxis": {
           "automargin": true,
           "gridcolor": "white",
           "linecolor": "white",
           "ticks": "",
           "title": {
            "standoff": 15
           },
           "zerolinecolor": "white",
           "zerolinewidth": 2
          },
          "yaxis": {
           "automargin": true,
           "gridcolor": "white",
           "linecolor": "white",
           "ticks": "",
           "title": {
            "standoff": 15
           },
           "zerolinecolor": "white",
           "zerolinewidth": 2
          }
         }
        },
        "title": {
         "font": {
          "size": 20
         },
         "text": "Chronologie des événements marquants en IA"
        },
        "width": 1000,
        "xaxis": {
         "range": [
          -3,
          3
         ],
         "showgrid": false,
         "showticklabels": false,
         "zeroline": false
        },
        "yaxis": {
         "autorange": "reversed",
         "gridcolor": "LightGray",
         "gridwidth": 1,
         "showgrid": true,
         "tickfont": {
          "size": 14
         },
         "title": {
          "font": {
           "size": 16
          },
          "text": "Date"
         }
        }
       }
      }
     },
     "metadata": {},
     "output_type": "display_data"
    }
   ],
   "source": [
    "\n",
    "import pandas as pd\n",
    "import plotly.graph_objects as go\n",
    "from textwrap import wrap\n",
    "\n",
    "# Création du dataframe avec une colonne supplémentaire pour les détails\n",
    "data = pd.DataFrame([\n",
    "    dict(\n",
    "        Événement=\"Annonce de l'implantation d'une puce Neuralink dans un cerveau humain\", \n",
    "        Début=\"2024\",\n",
    "        Détails=\"Premier patient reçoit un implant cérébral Neuralink.<br><a style='color: #00ffff;' href='https://neuralink.com'>→ En savoir plus sur neuralink.com</a>\"\n",
    "    ),\n",
    "])\n",
    "data.loc[len(data)] = dict(\n",
    "    Événement=\"Publication de l'article 'Attention is all you need'\",\n",
    "    Début=\"2017\",\n",
    "    Détails=\"Article fondateur sur l'architecture des transformeurs par Vaswani et al.<br><a style='color: #00ffff;' href='https://doi.org/10.48550/arXiv.1706.03762'>→ Lire l'article original</a>\"\n",
    ")\n",
    "data.loc[len(data)] = dict(\n",
    "    Événement=\"Joseph Weizenbaum lance le programme ELIZA\",\n",
    "    Début=\"1966\",\n",
    "    Détails=\"Premier chatbot simulant un psychothérapeute.<br><a style='color: #00ffff;' href='https://wikipedia.org/wiki/ELIZA'>→ Article Wikipedia sur ELIZA</a>\"\n",
    ")\n",
    "data.loc[len(data)] = dict(\n",
    "    Événement=\"Lancement du robot conversationnel Parry\",\n",
    "    Début=\"1972\",\n",
    "    Détails=\"Chatbot simulant un patient paranoïaque, créé par Kenneth Colby.<br><a style='color: #00ffff;' href='https://wikipedia.org/wiki/PARRY'>→ Article Wikipedia sur PARRY</a>\"\n",
    ")\n",
    "data.loc[len(data)] = dict(\n",
    "    Événement=\"Turing traite du « jeu d'imitation »\",\n",
    "    Début=\"1950\",\n",
    "    Détails=\"Publication de 'Computing Machinery and Intelligence'.<br><a style='color: #00ffff;' href='https://doi.org/10.1093/mind/LIX.236.433'>→ Consulter l'article original</a>\"\n",
    ")\n",
    "\n",
    "# Conversion des dates en format datetime\n",
    "data['Début'] = pd.to_datetime(data['Début'])\n",
    "\n",
    "# Tri des données par date\n",
    "data = data.sort_values('Début')\n",
    "\n",
    "# Wrapping du texte des événements\n",
    "data['Événement'] = data['Événement'].apply(lambda x: '<br>'.join(wrap(x, width=30)))\n",
    "\n",
    "# Création des positions alternées pour les textes\n",
    "positions = ['middle right', 'middle left'] * (len(data) // 2 + 1)\n",
    "positions = positions[:len(data)]\n",
    "\n",
    "# Position opposée pour le hover (si le texte est à droite, le hover sera à gauche et vice versa)\n",
    "hover_alignments = ['left' if pos == 'middle right' else 'right' for pos in positions]\n",
    "\n",
    "# Création du graphique\n",
    "fig = go.Figure()\n",
    "\n",
    "# Ajout des points et textes\n",
    "for i, row in enumerate(data.itertuples()):\n",
    "    fig.add_trace(go.Scatter(\n",
    "        y=[row.Début],\n",
    "        x=[0],\n",
    "        mode='markers+text',\n",
    "        marker=dict(size=12, symbol='circle'),\n",
    "        text=[row.Événement],\n",
    "        textposition=positions[i],\n",
    "        textfont=dict(size=14),\n",
    "        showlegend=False,\n",
    "        hovertemplate=\"%{customdata}<br><b>%{y|%Y}</b><extra></extra>\",\n",
    "        customdata=[row.Détails],\n",
    "        hoverlabel=dict(\n",
    "            bgcolor='rgba(0,0,0,0.8)',\n",
    "            align=hover_alignments[i]  # Position alternée du hover\n",
    "        ),\n",
    "    ))\n",
    "\n",
    "# Ajout de la ligne verticale\n",
    "fig.add_trace(go.Scatter(\n",
    "    y=[data['Début'].min(), data['Début'].max()],\n",
    "    x=[0, 0],\n",
    "    mode='lines',\n",
    "    line=dict(color='black', width=1),\n",
    "    showlegend=False,\n",
    "    hoverinfo='skip'\n",
    "))\n",
    "\n",
    "# Personnalisation du graphique\n",
    "fig.update_layout(\n",
    "    title=dict(\n",
    "        text=\"Chronologie des événements marquants en IA\",\n",
    "        font=dict(size=20)\n",
    "    ),\n",
    "    width=1000,\n",
    "    height=800,\n",
    "    plot_bgcolor='white',\n",
    "    xaxis=dict(\n",
    "        showgrid=False,\n",
    "        zeroline=False,\n",
    "        showticklabels=False,\n",
    "        range=[-3, 3]\n",
    "    ),\n",
    "    yaxis=dict(\n",
    "        title=\"Date\",\n",
    "        title_font=dict(size=16),\n",
    "        tickfont=dict(size=14),\n",
    "        showgrid=True,\n",
    "        gridwidth=1,\n",
    "        gridcolor='LightGray',\n",
    "        autorange=\"reversed\"\n",
    "    ),\n",
    "    hoverlabel=dict(\n",
    "        font_size=14,\n",
    "    ),\n",
    "    hovermode='closest',\n",
    "    hoverdistance=100,\n",
    "    clickmode='event+select',  # Rend le hover persistant jusqu'au prochain clic\n",
    ")\n",
    "\n",
    "# Affichage du graphique\n",
    "fig.show()\n"
   ]
  },
  {
   "cell_type": "markdown",
   "metadata": {},
   "source": [
    "## Conclusion"
   ]
  },
  {
   "cell_type": "markdown",
   "metadata": {},
   "source": [
    "Voilà qui clot une première investigation dans l'histoire des\n",
    "technologies numériques des agents conversationnels. \n",
    "\n"
   ]
  },
  {
   "cell_type": "markdown",
   "metadata": {},
   "source": [
    "## Bibliographie"
   ]
  },
  {
   "cell_type": "markdown",
   "metadata": {},
   "source": [
    "- Aimé, X. (2017). Intelligence artificielle et psychiatrie : noces d’or entre Eliza et Parry. *L’information psychiatrique*, 93(1), 51‑56. https://doi.org/10.1684/ipe.2017.1582\n",
    "- Al-Amin, M., Ali, M. S., Salam, A., Khan, A., Ali, A., Ullah, A.,\n",
    "  Alam, M. N. et Chowdhury, S. K. (2024, 4 février). History of\n",
    "  generative Artificial Intelligence (AI) chatbots: past, present, and\n",
    "  future development. *arXiv*. https://doi.org/10.48550/arXiv.2402.05122\n",
    "- Lewis, T. (2020, 1 novembre). Elon Musk’s Pig-Brain Implant Is Still a\n",
    "  Long Way from « Solving Paralysis ». *Scientific American*.\n",
    "  https://www.scientificamerican.com/article/elon-musks-pig-brain-implant-is-still-a-long-way-from-solving-paralysis/\n",
    "- Orf, D. (2023, 16 avril). The Turing Test for AI Is Obsolete - Is There a Better Framework? *Popular Mechanics*. https://www.popularmechanics.com/technology/robots/a43328241/turing-test-for-artificial-intelligence-is-obsolete/\n",
    "- Reuters. (2024, 30 janvier). Elon Musk’s Neuralink implants brain chip in first human. *Reuters*. https://www.reuters.com/technology/neuralink-implants-brain-chip-first-human-musk-says-2024-01-29/\n",
    "- Turing, A. M. (1950). Computing Machinery and Intelligence. *Mind, New\n",
    "  Series*, 59(236), 433‑460.\n",
    "- Vaswani, A., Shazeer, N., Parmar, N., Uszkoreit, J., Jones, L., Gomez, A. N., Kaiser, L. et Polosukhin, I. (2017, 5 décembre). Attention Is All You Need. *arXiv*. https://doi.org/10.48550/arXiv.1706.03762\n",
    "- Zewe, A. (2023, 9 novembre). Explained: Generative AI. *MIT News | Massachusetts Institute of Technology*. https://news.mit.edu/2023/explained-generative-ai-1109\n"
   ]
  }
 ],
 "metadata": {
  "kernelspec": {
   "display_name": "3.9.18",
   "language": "python",
   "name": "python3"
  },
  "language_info": {
   "codemirror_mode": {
    "name": "ipython",
    "version": 3
   },
   "file_extension": ".py",
   "mimetype": "text/x-python",
   "name": "python",
   "nbconvert_exporter": "python",
   "pygments_lexer": "ipython3",
   "version": "3.9.18"
  }
 },
 "nbformat": 4,
 "nbformat_minor": 2
}
