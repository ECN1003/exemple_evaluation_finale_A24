{
 "cells": [
  {
   "cell_type": "code",
   "execution_count": 129,
   "metadata": {},
   "outputs": [
    {
     "data": {
      "text/html": [
       "<style>\n",
       ".jp-Cell, .jp-MarkdownCell {\n",
       "    max-width: 70vw !important;\n",
       "    margin: 3px auto !important;\n",
       "    /* text-align: justify !important; */\n",
       "}\n",
       "\n",
       ".jp-MarkdownOutput {\n",
       "    font-size: 18px !important;\n",
       "    max-width: 900px !important;\n",
       "    margin: 0 auto !important;\n",
       "    /* text-align: justify !important; */\n",
       "}\n",
       "\n",
       "/* Additional markdown elements styling */\n",
       ".jp-MarkdownOutput h1 {\n",
       "    font-size: 2rem !important;\n",
       "    background-color: red;\n",
       "}\n",
       "\n",
       ".jp-MarkdownOutput h2 {\n",
       "    font-size: 1.5rem !important;\n",
       "}\n",
       "\n",
       ".jp-MarkdownOutput p {\n",
       "    line-height: 1.5 !important;\n",
       "    font-size: 1.3rem!important;\n",
       "    background-color: blueviolet !important;\n",
       "}\n",
       "\n",
       ".input_area {\n",
       "  max-height: 300px !important;\n",
       "  overflow-y: auto !important;\n",
       "}\n",
       "\n",
       "h2 {\n",
       "    background-color: blueviolet;\n",
       "} </style>"
      ],
      "text/plain": [
       "<IPython.core.display.HTML object>"
      ]
     },
     "execution_count": 129,
     "metadata": {},
     "output_type": "execute_result"
    }
   ],
   "source": [
    "from IPython.display import HTML\n",
    "HTML('''<style>\n",
    ".jp-Cell, .jp-MarkdownCell {\n",
    "    max-width: 70vw !important;\n",
    "    margin: 3px auto !important;\n",
    "    /* text-align: justify !important; */\n",
    "}\n",
    "\n",
    ".jp-MarkdownOutput {\n",
    "    font-size: 18px !important;\n",
    "    max-width: 900px !important;\n",
    "    margin: 0 auto !important;\n",
    "    /* text-align: justify !important; */\n",
    "}\n",
    "\n",
    "/* Additional markdown elements styling */\n",
    ".jp-MarkdownOutput h1 {\n",
    "    font-size: 2rem !important;\n",
    "    background-color: red;\n",
    "}\n",
    "\n",
    ".jp-MarkdownOutput h2 {\n",
    "    font-size: 1.5rem !important;\n",
    "}\n",
    "\n",
    ".jp-MarkdownOutput p {\n",
    "    line-height: 1.5 !important;\n",
    "    font-size: 1.3rem!important;\n",
    "    background-color: blueviolet !important;\n",
    "}\n",
    "\n",
    ".input_area {\n",
    "  max-height: 300px !important;\n",
    "  overflow-y: auto !important;\n",
    "}\n",
    "\n",
    "h2 {\n",
    "    background-color: blueviolet;\n",
    "} </style>''')"
   ]
  },
  {
   "cell_type": "markdown",
   "metadata": {},
   "source": [
    "<img style =\"float:right;display:inline;z-index:0;margin-right:5rem\"\n",
    "src=\"./UOF-logo.png\" alt-text=\"Logo de l'UOF, université innovante\">\n",
    "<h1 style=\"margin:auto;max-width:50rem;text-align:center\">Ligne de temps générative <br> des technologies numériques</h1>"
   ]
  },
  {
   "cell_type": "markdown",
   "metadata": {},
   "source": [
    "<img style =\"float:right;display:inline;z-index:0;margin: 0 5rem\"\n",
    "src=\"./logo-ECN_small.png\" alt-text=\"Logo du Pôle d'études et recherche en cultures numériques de l'UOF\">\n",
    "<h2 style=\"margin:auto;max-width:50rem;text-align:center\">\n",
    "L'évolution et les enjeux des agents d'IA conversationnelle \n",
    "</h2>"
   ]
  },
  {
   "cell_type": "markdown",
   "metadata": {},
   "source": [
    "<h4 style=\"margin:auto;max-width:50rem;text-align:center;line-height:1.5\">EXEMPLE de Travail assisté par IA générative réalisé dans le cadre du cours <em>ECN1003: Introduction aux technologies numériques</em>, <br> Session d'automne 2024\n",
    "<br>Professeure responsable du cours: Sarah Choukah</h4>\n"
   ]
  },
  {
   "cell_type": "markdown",
   "metadata": {},
   "source": [
    "Par : Sarah Choukah\n",
    "\n",
    "Date : 11 décembre 2024"
   ]
  },
  {
   "cell_type": "markdown",
   "metadata": {},
   "source": [
    "## Introduction "
   ]
  },
  {
   "cell_type": "markdown",
   "metadata": {},
   "source": [
    "Ce document est une initiative exploratoire visant à documenter du\n",
    "travail avec de l'IA générative dans la collecte et l'analyse de\n",
    "dates et données historiques marquantes des technologies numériques. \n",
    "\n",
    "Les données seront graduellement collectées, documentées et insérées dans une ligne de\n",
    "temps à l'aide des librairies Python [Pandas](https://pandas.pydata.org/docs/) et\n",
    "[Plotly Express](https://plotly.com/python/)."
   ]
  },
  {
   "cell_type": "markdown",
   "metadata": {},
   "source": [
    "Pour construire cette ligne de temps, je me suis penchée sur l'histoire des\n",
    "agents conversationnels. Je suis très intéressée par les multiples\n",
    "façons dont les humains et les machines ont communiqué à travers les\n",
    "âges. Je trouve aussi\n",
    "l'étude des modes de communication que les humains ont développés avec\n",
    "des non-humains fascinante. À travers ce type de communication, les\n",
    "humains sont arrivés à contrôler et à cultiver des relations importantes\n",
    "avec des entités qui ne\n",
    "leur ressemblent en rien, et dont\n",
    "les propriétés sont en constante évolution. \n",
    "\n",
    "Pour moi, l'idée de créer\n",
    "des agents conversationnels tels que ceux qui se présentent sous la\n",
    "forme de robots apporte autant d'immenses promesses que des périls. \n",
    "\n",
    "J'ai initialement interrogé ChatGPT avec les instructions suivantes: \n",
    "\n",
    "<img src=\"./prompt_example_ChatGPT.png\" style=\"width: 50%; display: block;\n",
    "margin: 0 auto; padding: 45\" alt=\"Capture d'écran de l'instruction fournie à\n",
    "ChatGPT\">\n",
    "\n",
    "<br>\n",
    "\n",
    "<p>À ces instructions, ChatGPT à répondu avec des références vers des liens\n",
    "non cliquables, ce que je lui ai demandé de corriger : </p>\n",
    "\n",
    "« Pourrais- tu me donner des liens cliquables stp ? »\n",
    "\n",
    "Les liens cette fois étaient bien cliquables, mais il menaient\n",
    "vers des publications qui n'étaient pas pertinentes. Voici le [lien vers\n",
    "la discussion entière que j'ai\n",
    "eue](https://chatgpt.com/share/675a8d97-3628-800d-bf5f-4f73071f30c7).\n",
    "\n",
    "Cela dit, j'ai lu assez de la réponse initiale pour générer mes propres\n",
    "idées dans ma tête. En effet, lire sur le programme ELIZA de Joseph Weizenbaum, ainsi que sur\n",
    "d'autres prototypes et programmes d'agents conversationnels, m'a fait\n",
    "m'interroger sur les possibilités de créer des interfaces directement\n",
    "connectées au cerveau humain plutôt que par des interfaces d'ordinateurs. "
   ]
  },
  {
   "cell_type": "markdown",
   "metadata": {},
   "source": [
    "## Événements historiques sélectionnés et sources choisies"
   ]
  },
  {
   "cell_type": "markdown",
   "metadata": {},
   "source": [
    "Voici la première des cinq dates que j'ai trouvée à partir de ces\n",
    "recommandations et réflexions initiales.\n",
    "\n",
    "#### Lancement de l'interface humain-cerveau sans fil de la compagnie Neuralink et première implantation dans un cerveau de porc en août 2020;\n",
    "\n",
    "Neuralink, une des compagnies d'Elon Musk, annonce au mois d'août 2020\n",
    "qu'elle a implanté un dispositif servant d'interface dans le cerveau\n",
    "de plusieurs porcs. Après avoir fait une recherche sommaire sur cet\n",
    "événement en ligne, je constate que la nouvelle semble avoir été abondamment relayée. Elle\n",
    "a été soulignée\n",
    "dans les milieux des hautes technologies, de l'ingénierie, et de la\n",
    "médecine, entre autres. J'ai choisi 👉 [ce commentaire publié dans la revue\n",
    "Scientific American\n",
    "](https://www.scientificamerican.com/article/elon-musks-pig-brain-implant-is-still-a-long-way-from-solving-paralysis/)\n",
    "pour en traiter. Ce commentaire nous renseigne sur les éléments les plus\n",
    "importants de la démonstration de prouesse technologique, tout en soulignant qu'il s'agissait d'une\n",
    "démonstration visant, selon les dires de Musk, à attirer des talents. \n",
    "\n",
    "J'ai choisi cette date parce que, bien que cela ne semble pas évident au\n",
    "premier regard, je vois des liens forts entre les développements les plus\n",
    "récents des interfaces humains-cerveau et la montée en croissance très\n",
    "rapide d'agents conversationnels. Je pense que, dans un avenir pas si\n",
    "lointain, il sera possible d'implanter des puces microscopiques capables\n",
    "de relier des agents conversationnels avec des cerveaux. Des prototypes\n",
    "de micropuces\n",
    "capables de connecter des cerveaux humains à Internet et de transmettre de l'information\n",
    "dans les deux sens,\n",
    "directement à ces cerveaux, sont désormais possibles. D'ailleurs, elles existent\n",
    "déjà sous la forme d'une démonstration initiale, également très médiatisée, capable de transmettre de l'information\n",
    "sans fil directement. C'est ce qu'a fait la compagnie d'Elon Musk 👉 [le 29\n",
    "janvier\n",
    "dernier](https://www.reuters.com/technology/neuralink-implants-brain-chip-first-human-musk-says-2024-01-29/)\n",
    "avec de premiers essais cliniques d'implantation sur des êtres humains. "
   ]
  },
  {
   "cell_type": "code",
   "execution_count": 85,
   "metadata": {},
   "outputs": [],
   "source": [
    "# Entrons les principaux détails de cet événement sous forme de\n",
    "# dictionnaire dans une variable: « date_1 ».\n",
    "\n",
    "# Le dictionnaire se compose d'un événement qui servira d'étiquette\n",
    "# (label), d'une date de début (pas besoin de date de fin dans ce\n",
    "# cas-ci), ainsi que de détails. Les détails sont sous forme de chaîne\n",
    "# de caractères et contiennent un hyperlien formatté en html. Cet\n",
    "# hyperlien sera cliquable lorsque le curseur se posera sur l'événement\n",
    "# pour en révéler les détails. \n",
    "\n",
    "date_1 = dict(\n",
    "        Événement=\"Annonce de l'implantation d'une puce Neuralink dans un cerveau humain\", \n",
    "        Début=\"2024\",\n",
    "        Détails=\"Un premier patient reçoit un implant cérébral Neuralink.<br><a style='color: #00ffff;' href='https://www.reuters.com/technology/neuralink-implants-brain-chip-first-human-musk-says-2024-01-29/'>→ Lien vers l'article de l'agence Reuters</a>\"\n",
    "    )"
   ]
  },
  {
   "cell_type": "markdown",
   "metadata": {},
   "source": [
    "Une fois cette date commentée, je suis retournée sur ChatGPT pour continuer mon\n",
    "exploration critique de sources. Et j'ai consulté à nouveau les\n",
    "références cliquables pour me rendre compte qu'elles étaient non\n",
    "seulement en manque de pertinence, mais que le texte généré comme\n",
    "description comportait des erreurs. J'ai relevé la chose auprès du *chatbot*:\n",
    "\n",
    "<img src=\"./Tu_te_trompes.png\" alt=\"capture d'écran où j'indique que\n",
    "ChatGPT se trompe\" style=\"margin:auto;max-width:60%;\">\n",
    "\n",
    "ChatGPT n'a pas hésité à demander pardon avant de me trouver d'autres références: \n",
    "\n",
    "<p style=\"margin:auto;max-width:50%;background-color:#e0e0e0;padding:20px;\">« Merci pour votre observation, et vous avez tout à fait raison. Les\n",
    "deux articles que j’ai cités ne contiennent pas d’analyse historique\n",
    "exhaustive, ni ne mentionnent des jalons comme ELIZA ou ALICE [...]\n",
    "Voici quelques informations issues de recherches académiques récentes\n",
    "qui pourraient répondre à vos attentes et éclairer les événements\n",
    "historiques clés dans l’évolution des agents conversationnels ». </p>"
   ]
  },
  {
   "cell_type": "markdown",
   "metadata": {},
   "source": [
    "#### Publication de l'article *Attention is all you need* (Vaswani et al. 2017)\n",
    "\n",
    "J'ai continué mon exploration. De fil en aiguille, j'ai trouvé d'autres\n",
    "références très intéressantes. Dans <a href=\"https://news.mit.edu/2023/explained-generative-ai-1109\">cet article</a> d'Adam Zewe, 2017\n",
    "apparaît comme une date cruciale pour le développement d'IA génératives\n",
    "et donc, par extension, des agents conversationnels. Cette date\n",
    "correspond à la publication d'un article intitulé « *Attention is all you\n",
    "need* » par une équipe de chercheur.e.s de l'équipe derrière Google\n",
    "Deepmind. Dans cet article, une nouvelle architecture est proposée pour\n",
    "accélérer radicalement le temps passé à entraîner de grands modèles de\n",
    "langage (Zewe, 2023)."
   ]
  },
  {
   "cell_type": "code",
   "execution_count": 121,
   "metadata": {},
   "outputs": [],
   "source": [
    "# Ajoutons la nouvelle date, toujours sous forme de dictionnaire\n",
    "# (notation alternative), dans une nouvelle variable.\n",
    "\n",
    "date_2 = dict(\n",
    "    Événement=\"Publication de l'article 'Attention is all you need'\",\n",
    "    Début=\"2017\",\n",
    "    Détails=\"Article fondateur sur l'architecture des transformeurs par Vaswani et al.<br><a style='color: #00ffff;text-align:left;' href='https://doi.org/10.48550/arXiv.1706.03762'>→ Lire l'article original</a>\"\n",
    ")"
   ]
  },
  {
   "cell_type": "markdown",
   "metadata": {},
   "source": [
    "<h4>Le programme psychothérapeute ELIZA: 1966</h4>"
   ]
  },
  {
   "cell_type": "markdown",
   "metadata": {},
   "source": [
    "Je me suis aussi souvenue d'avoir déjà lu sur ELIZA il y a quelques\n",
    "années. Il s'agit d'un des premiers *chatbots* à avoir été rendu public selon Md. Al-Amin et al. (2024). Conçu par\n",
    "Joseph Weizenbaum en 1966, ELIZA était\n",
    "un programme texte interactif qui simulait\n",
    "une thérapeute avec certaines phrases préprogrammées (Weizembaum, 1966). ELIZA a marqué le\n",
    "développement technique des agents conversationnels : « Son\n",
    "fonctionnement reposait sur la reconnaissance de mots-clés et de schémas\n",
    "pour sélectionner des modèles de réponses prédéterminés. Il analysait le\n",
    "texte saisi par l'utilisateur à la recherche de mots-clés et de schémas\n",
    "reconnus, puis substituait ces mots-clés dans les modèles de réponses\n",
    "correspondants pour générer automatiquement des réponses. » (*Ibid*, p.\n",
    "6, traduction via Google Gemini Flash 1.5). "
   ]
  },
  {
   "cell_type": "code",
   "execution_count": 122,
   "metadata": {},
   "outputs": [],
   "source": [
    "date_3 = dict(\n",
    "    Événement=\"Turing traite du «jeu d'imitation»\",\n",
    "    Début=\"1950\",\n",
    "    Détails=\"Publication de 'Computing Machinery and Intelligence'.<br><a style='color: #00ffff;' href='https://doi.org/10.1093/mind/LIX.236.433'>→ Consulter l'article original</a>\"\n",
    ")"
   ]
  },
  {
   "cell_type": "markdown",
   "metadata": {},
   "source": [
    "ELIZA a d'autant plus piqué ma curiosité lorsque j'ai pris connaissance\n",
    "de son rapport avec le test de Turing. Le concepteur de ce test, Alan\n",
    "Turing, en a formulé les grandes lignes dans un article publié en 1950\n",
    "dans la revue *Mind* (Turing, 1950). Plusieurs agents conversationnels,\n",
    "dont ELIZA, ont été à soumis à ce test, souvent avec des résultats\n",
    "ambivalents ou débattus (Orf, 2023). "
   ]
  },
  {
   "cell_type": "code",
   "execution_count": 123,
   "metadata": {},
   "outputs": [],
   "source": [
    "# Transformons aussi cette publication en dictionnaire et ajoutons-le\n",
    "# avec la méthode `loc`, que nous connaissons déjà mieux.\n",
    "\n",
    "date_4 = dict(\n",
    "    Événement=\"Joseph Weizenbaum lance le programme ELIZA\",\n",
    "    Début=\"1966\",\n",
    "    Détails=\"Premier chatbot simulant un psychothérapeute.<br><a style='color: #00ffff;' href='https://doi.org/10.48550/arXiv.2402.05122'>→ Article sur l'histoire des <i>chatbots</i> traitant entre autres d'ELIZA.</a>\"\n",
    ")"
   ]
  },
  {
   "cell_type": "markdown",
   "metadata": {},
   "source": [
    "En dernier lieu, pour équilibrer la répartition des\n",
    "événements sur ma ligne, je me suis limité à trouver un événement\n",
    "significatif entre les années 1970 et 1990.\n",
    "\n",
    "Cela dit, cette fois, j'ai effectué une recherche en partant des\n",
    "ressources disponibles à la bibliothèque de l'UOF. Sans *prompts*\n",
    "très précis, rédigés avec beaucoup de soin et à travers de multiples\n",
    "itérations, consulter ChatGPT\n",
    "pour obtenir des sources valides s'avère frustrant. Et tant qu'à passer\n",
    "des heures à taper des instructions à une IA générative, pourquoi ne pas\n",
    "plutôt s'économiser l'effort et aller chercher du côté de ressources\n",
    "spécialisées faites exactement pour le genre d'exercice auquel je me\n",
    "prête ? ChatGPT a confirmé. \n",
    "\n",
    "<img src=\"./ChatGPT_est_nul.png\" style=\"margin:auto;max-width:70%;display:block;\" alt=\"Capture d'écran d'une dernière\n",
    "conversation où ChatGPT me dit que c'est bien mieux de chercher dans les\n",
    "bases de données.\">"
   ]
  },
  {
   "cell_type": "markdown",
   "metadata": {},
   "source": [
    "<h4>Création de Parry par Kenneth Colby en 1972</h4>\n",
    "\n",
    "Une petite recherche sur CAIRN info avec les termes « Histoire IA\n",
    "conversationnelle » me permet de trouver une référence très pertinente:\n",
    "la conception de l'agent conversationnel Parry par Kenneth Colby,\n",
    "psychiatre et chercheur à l'Université Stanford. L'auteur de l'article\n",
    "qui en fait mention, Xavier Aimé, note que Parry était un programme « dont l’objet était cette\n",
    "fois de modéliser le comportement d’un sujet atteint de schizophrénie\n",
    "paranoïde » (2017, p. 53). \n",
    "\n",
    "Voilà, maintenant ajoutons cette dernière date sous forme de\n",
    "dictionnaire à la ligne de temps."
   ]
  },
  {
   "cell_type": "code",
   "execution_count": 124,
   "metadata": {},
   "outputs": [],
   "source": [
    "date_5 = dict(\n",
    "    Événement=\"Lancement du robot conversationnel Parry\",\n",
    "    Début=\"1972\",\n",
    "    Détails=\"Chatbot simulant un patient paranoïaque, créé par Kenneth Colby.<br><a style='color: #00ffff;' href='https://stm.cairn.info/revue-l-information-psychiatrique-2017-1-page-51'>→ Article de Xavier Aimé sur ELIZA et Parry</a>\"\n",
    ")"
   ]
  },
  {
   "cell_type": "markdown",
   "metadata": {},
   "source": [
    "<h3>Création de la ligne de temps avec assistance IA</h3>"
   ]
  },
  {
   "cell_type": "markdown",
   "metadata": {},
   "source": [
    "La ligne de temps suivante a été générée avec la librairie Python de visualisation Plotly ainsi\n",
    "que la librairie « wrap ». Cette dernière assure un retour à la ligne\n",
    "pour une meilleure mise en page des étiquettes.\n",
    "\n",
    "ChatGPT 4o et Claude 3.5 Sonnet ont été utilisés pour générer\n",
    "l'essentiel du code, qui a par la suite fait l'objet de maintes\n",
    "révisions et raffinements. La documentation disponible sur le [site de\n",
    "Plotly et Dash](https://plotly.com/python/) ainsi que sur le [référentiel GitHub](https://github.com/plotly/plotly.py/issues) des librairies s'est\n",
    "révélée très utile à cette fin. "
   ]
  },
  {
   "cell_type": "code",
   "execution_count": 125,
   "metadata": {},
   "outputs": [],
   "source": [
    "# Notre première ligne sert à l'importation de la librarie Pandas, qui\n",
    "# servira à créer les structure de donnée en tableau (DataFrame)\n",
    "# nécessaire à notre visualisation.\n",
    "import pandas as pd\n",
    "\n",
    "# Il faut, ensuite, créer un tableau DataFrame contenant l'ensemble\n",
    "# des dictionnaires que nous avons définis jusqu'à maintenant.\n",
    "data = pd.DataFrame([date_1, date_2, date_3, date_4, date_5])"
   ]
  },
  {
   "cell_type": "code",
   "execution_count": 126,
   "metadata": {},
   "outputs": [],
   "source": [
    "# Par la suite, importons la librairie Plotly pour concevoir et afficher\n",
    "# notre ligne de temps.\n",
    "import plotly.graph_objects as go\n",
    "\n",
    "# Et importons le module \"wrap\" pour mieux mettre en forme nos\n",
    "# étiquettes, notamment pour « enrober » (warp) le texte et ne pas avoir\n",
    "# de longues lignes. \n",
    "from textwrap import wrap\n",
    "\n",
    "# Conversion des dates en format datetime\n",
    "# Ici, nous aurons seulement une date de début.\n",
    "# Nous n'avons pas besoin des dates de fin.\n",
    "data['Début'] = pd.to_datetime(data['Début'])"
   ]
  },
  {
   "attachments": {
    "image.png": {
     "image/png": "[encoded data removed]"
    }
   },
   "cell_type": "markdown",
   "metadata": {},
   "source": [
    "De cette manière, les étiquettes vont uniquement montrer la date de l'événement.\n",
    "\n",
    "\n",
    "![image.png](attachment:image.png)"
   ]
  },
  {
   "cell_type": "code",
   "execution_count": 127,
   "metadata": {},
   "outputs": [
    {
     "data": {
      "text/html": [
       "<div>                        <script type=\"text/javascript\">window.PlotlyConfig = {MathJaxConfig: 'local'};</script>\n",
       "        <script charset=\"utf-8\" src=\"https://cdn.plot.ly/plotly-3.0.1.min.js\"></script>                <div id=\"436f58dc-9d46-40d6-8e76-427150cb6e0b\" class=\"plotly-graph-div\" style=\"height:800px; width:1000px;\"></div>            <script type=\"text/javascript\">                window.PLOTLYENV=window.PLOTLYENV || {};                                if (document.getElementById(\"436f58dc-9d46-40d6-8e76-427150cb6e0b\")) {                    Plotly.newPlot(                        \"436f58dc-9d46-40d6-8e76-427150cb6e0b\",                        [{\"customdata\":[\"Publication de 'Computing Machinery and Intelligence'.\\u003cbr\\u003e\\u003ca style='color: #00ffff;' href='https:\\u002f\\u002fdoi.org\\u002f10.1093\\u002fmind\\u002fLIX.236.433'\\u003e\\u2192 Consulter l'article original\\u003c\\u002fa\\u003e\"],\"hoverlabel\":{\"align\":\"left\",\"bgcolor\":\"rgba(0,0,0,0.8)\"},\"hovertemplate\":\"%{customdata}\\u003cbr\\u003e\\u003cb\\u003e%{y|%Y}\\u003c\\u002fb\\u003e\\u003cextra\\u003e\\u003c\\u002fextra\\u003e\",\"marker\":{\"size\":12,\"symbol\":\"circle\"},\"mode\":\"markers+text\",\"showlegend\":false,\"text\":[\"Turing traite du \\u00abjeu\\u003cbr\\u003ed'imitation\\u00bb\"],\"textfont\":{\"size\":14},\"textposition\":\"middle right\",\"x\":[0],\"y\":[\"1950-01-01T00:00:00\"],\"type\":\"scatter\"},{\"customdata\":[\"Premier chatbot simulant un psychoth\\u00e9rapeute.\\u003cbr\\u003e\\u003ca style='color: #00ffff;' href='https:\\u002f\\u002fdoi.org\\u002f10.48550\\u002farXiv.2402.05122'\\u003e\\u2192 Article sur l'histoire des \\u003ci\\u003echatbots\\u003c\\u002fi\\u003e traitant entre autres d'ELIZA.\\u003c\\u002fa\\u003e\"],\"hoverlabel\":{\"align\":\"right\",\"bgcolor\":\"rgba(0,0,0,0.8)\"},\"hovertemplate\":\"%{customdata}\\u003cbr\\u003e\\u003cb\\u003e%{y|%Y}\\u003c\\u002fb\\u003e\\u003cextra\\u003e\\u003c\\u002fextra\\u003e\",\"marker\":{\"size\":12,\"symbol\":\"circle\"},\"mode\":\"markers+text\",\"showlegend\":false,\"text\":[\"Joseph Weizenbaum lance le\\u003cbr\\u003eprogramme ELIZA\"],\"textfont\":{\"size\":14},\"textposition\":\"middle left\",\"x\":[0],\"y\":[\"1966-01-01T00:00:00\"],\"type\":\"scatter\"},{\"customdata\":[\"Chatbot simulant un patient parano\\u00efaque, cr\\u00e9\\u00e9 par Kenneth Colby.\\u003cbr\\u003e\\u003ca style='color: #00ffff;' href='https:\\u002f\\u002fstm.cairn.info\\u002frevue-l-information-psychiatrique-2017-1-page-51'\\u003e\\u2192 Article de Xavier Aim\\u00e9 sur ELIZA et Parry\\u003c\\u002fa\\u003e\"],\"hoverlabel\":{\"align\":\"left\",\"bgcolor\":\"rgba(0,0,0,0.8)\"},\"hovertemplate\":\"%{customdata}\\u003cbr\\u003e\\u003cb\\u003e%{y|%Y}\\u003c\\u002fb\\u003e\\u003cextra\\u003e\\u003c\\u002fextra\\u003e\",\"marker\":{\"size\":12,\"symbol\":\"circle\"},\"mode\":\"markers+text\",\"showlegend\":false,\"text\":[\"Lancement du robot\\u003cbr\\u003econversationnel Parry\"],\"textfont\":{\"size\":14},\"textposition\":\"middle right\",\"x\":[0],\"y\":[\"1972-01-01T00:00:00\"],\"type\":\"scatter\"},{\"customdata\":[\"Article fondateur sur l'architecture des transformeurs par Vaswani et al.\\u003cbr\\u003e\\u003ca style='color: #00ffff;text-align:left;' href='https:\\u002f\\u002fdoi.org\\u002f10.48550\\u002farXiv.1706.03762'\\u003e\\u2192 Lire l'article original\\u003c\\u002fa\\u003e\"],\"hoverlabel\":{\"align\":\"right\",\"bgcolor\":\"rgba(0,0,0,0.8)\"},\"hovertemplate\":\"%{customdata}\\u003cbr\\u003e\\u003cb\\u003e%{y|%Y}\\u003c\\u002fb\\u003e\\u003cextra\\u003e\\u003c\\u002fextra\\u003e\",\"marker\":{\"size\":12,\"symbol\":\"circle\"},\"mode\":\"markers+text\",\"showlegend\":false,\"text\":[\"Publication de l'article\\u003cbr\\u003e'Attention is all you need'\"],\"textfont\":{\"size\":14},\"textposition\":\"middle left\",\"x\":[0],\"y\":[\"2017-01-01T00:00:00\"],\"type\":\"scatter\"},{\"customdata\":[\"Un premier patient re\\u00e7oit un implant c\\u00e9r\\u00e9bral Neuralink.\\u003cbr\\u003e\\u003ca style='color: #00ffff;' href='https:\\u002f\\u002fwww.reuters.com\\u002ftechnology\\u002fneuralink-implants-brain-chip-first-human-musk-says-2024-01-29\\u002f'\\u003e\\u2192 Lien vers l'article de l'agence Reuters\\u003c\\u002fa\\u003e\"],\"hoverlabel\":{\"align\":\"left\",\"bgcolor\":\"rgba(0,0,0,0.8)\"},\"hovertemplate\":\"%{customdata}\\u003cbr\\u003e\\u003cb\\u003e%{y|%Y}\\u003c\\u002fb\\u003e\\u003cextra\\u003e\\u003c\\u002fextra\\u003e\",\"marker\":{\"size\":12,\"symbol\":\"circle\"},\"mode\":\"markers+text\",\"showlegend\":false,\"text\":[\"Annonce de l'implantation\\u003cbr\\u003ed'une puce Neuralink dans un\\u003cbr\\u003ecerveau humain\"],\"textfont\":{\"size\":14},\"textposition\":\"middle right\",\"x\":[0],\"y\":[\"2024-01-01T00:00:00\"],\"type\":\"scatter\"},{\"hoverinfo\":\"skip\",\"line\":{\"color\":\"black\",\"width\":1},\"mode\":\"lines\",\"showlegend\":false,\"x\":[0,0],\"y\":[\"1950-01-01T00:00:00\",\"2024-01-01T00:00:00\"],\"type\":\"scatter\"}],                        {\"template\":{\"data\":{\"histogram2dcontour\":[{\"type\":\"histogram2dcontour\",\"colorbar\":{\"outlinewidth\":0,\"ticks\":\"\"},\"colorscale\":[[0.0,\"#0d0887\"],[0.1111111111111111,\"#46039f\"],[0.2222222222222222,\"#7201a8\"],[0.3333333333333333,\"#9c179e\"],[0.4444444444444444,\"#bd3786\"],[0.5555555555555556,\"#d8576b\"],[0.6666666666666666,\"#ed7953\"],[0.7777777777777778,\"#fb9f3a\"],[0.8888888888888888,\"#fdca26\"],[1.0,\"#f0f921\"]]}],\"choropleth\":[{\"type\":\"choropleth\",\"colorbar\":{\"outlinewidth\":0,\"ticks\":\"\"}}],\"histogram2d\":[{\"type\":\"histogram2d\",\"colorbar\":{\"outlinewidth\":0,\"ticks\":\"\"},\"colorscale\":[[0.0,\"#0d0887\"],[0.1111111111111111,\"#46039f\"],[0.2222222222222222,\"#7201a8\"],[0.3333333333333333,\"#9c179e\"],[0.4444444444444444,\"#bd3786\"],[0.5555555555555556,\"#d8576b\"],[0.6666666666666666,\"#ed7953\"],[0.7777777777777778,\"#fb9f3a\"],[0.8888888888888888,\"#fdca26\"],[1.0,\"#f0f921\"]]}],\"heatmap\":[{\"type\":\"heatmap\",\"colorbar\":{\"outlinewidth\":0,\"ticks\":\"\"},\"colorscale\":[[0.0,\"#0d0887\"],[0.1111111111111111,\"#46039f\"],[0.2222222222222222,\"#7201a8\"],[0.3333333333333333,\"#9c179e\"],[0.4444444444444444,\"#bd3786\"],[0.5555555555555556,\"#d8576b\"],[0.6666666666666666,\"#ed7953\"],[0.7777777777777778,\"#fb9f3a\"],[0.8888888888888888,\"#fdca26\"],[1.0,\"#f0f921\"]]}],\"contourcarpet\":[{\"type\":\"contourcarpet\",\"colorbar\":{\"outlinewidth\":0,\"ticks\":\"\"}}],\"contour\":[{\"type\":\"contour\",\"colorbar\":{\"outlinewidth\":0,\"ticks\":\"\"},\"colorscale\":[[0.0,\"#0d0887\"],[0.1111111111111111,\"#46039f\"],[0.2222222222222222,\"#7201a8\"],[0.3333333333333333,\"#9c179e\"],[0.4444444444444444,\"#bd3786\"],[0.5555555555555556,\"#d8576b\"],[0.6666666666666666,\"#ed7953\"],[0.7777777777777778,\"#fb9f3a\"],[0.8888888888888888,\"#fdca26\"],[1.0,\"#f0f921\"]]}],\"surface\":[{\"type\":\"surface\",\"colorbar\":{\"outlinewidth\":0,\"ticks\":\"\"},\"colorscale\":[[0.0,\"#0d0887\"],[0.1111111111111111,\"#46039f\"],[0.2222222222222222,\"#7201a8\"],[0.3333333333333333,\"#9c179e\"],[0.4444444444444444,\"#bd3786\"],[0.5555555555555556,\"#d8576b\"],[0.6666666666666666,\"#ed7953\"],[0.7777777777777778,\"#fb9f3a\"],[0.8888888888888888,\"#fdca26\"],[1.0,\"#f0f921\"]]}],\"mesh3d\":[{\"type\":\"mesh3d\",\"colorbar\":{\"outlinewidth\":0,\"ticks\":\"\"}}],\"scatter\":[{\"fillpattern\":{\"fillmode\":\"overlay\",\"size\":10,\"solidity\":0.2},\"type\":\"scatter\"}],\"parcoords\":[{\"type\":\"parcoords\",\"line\":{\"colorbar\":{\"outlinewidth\":0,\"ticks\":\"\"}}}],\"scatterpolargl\":[{\"type\":\"scatterpolargl\",\"marker\":{\"colorbar\":{\"outlinewidth\":0,\"ticks\":\"\"}}}],\"bar\":[{\"error_x\":{\"color\":\"#2a3f5f\"},\"error_y\":{\"color\":\"#2a3f5f\"},\"marker\":{\"line\":{\"color\":\"#E5ECF6\",\"width\":0.5},\"pattern\":{\"fillmode\":\"overlay\",\"size\":10,\"solidity\":0.2}},\"type\":\"bar\"}],\"scattergeo\":[{\"type\":\"scattergeo\",\"marker\":{\"colorbar\":{\"outlinewidth\":0,\"ticks\":\"\"}}}],\"scatterpolar\":[{\"type\":\"scatterpolar\",\"marker\":{\"colorbar\":{\"outlinewidth\":0,\"ticks\":\"\"}}}],\"histogram\":[{\"marker\":{\"pattern\":{\"fillmode\":\"overlay\",\"size\":10,\"solidity\":0.2}},\"type\":\"histogram\"}],\"scattergl\":[{\"type\":\"scattergl\",\"marker\":{\"colorbar\":{\"outlinewidth\":0,\"ticks\":\"\"}}}],\"scatter3d\":[{\"type\":\"scatter3d\",\"line\":{\"colorbar\":{\"outlinewidth\":0,\"ticks\":\"\"}},\"marker\":{\"colorbar\":{\"outlinewidth\":0,\"ticks\":\"\"}}}],\"scattermap\":[{\"type\":\"scattermap\",\"marker\":{\"colorbar\":{\"outlinewidth\":0,\"ticks\":\"\"}}}],\"scattermapbox\":[{\"type\":\"scattermapbox\",\"marker\":{\"colorbar\":{\"outlinewidth\":0,\"ticks\":\"\"}}}],\"scatterternary\":[{\"type\":\"scatterternary\",\"marker\":{\"colorbar\":{\"outlinewidth\":0,\"ticks\":\"\"}}}],\"scattercarpet\":[{\"type\":\"scattercarpet\",\"marker\":{\"colorbar\":{\"outlinewidth\":0,\"ticks\":\"\"}}}],\"carpet\":[{\"aaxis\":{\"endlinecolor\":\"#2a3f5f\",\"gridcolor\":\"white\",\"linecolor\":\"white\",\"minorgridcolor\":\"white\",\"startlinecolor\":\"#2a3f5f\"},\"baxis\":{\"endlinecolor\":\"#2a3f5f\",\"gridcolor\":\"white\",\"linecolor\":\"white\",\"minorgridcolor\":\"white\",\"startlinecolor\":\"#2a3f5f\"},\"type\":\"carpet\"}],\"table\":[{\"cells\":{\"fill\":{\"color\":\"#EBF0F8\"},\"line\":{\"color\":\"white\"}},\"header\":{\"fill\":{\"color\":\"#C8D4E3\"},\"line\":{\"color\":\"white\"}},\"type\":\"table\"}],\"barpolar\":[{\"marker\":{\"line\":{\"color\":\"#E5ECF6\",\"width\":0.5},\"pattern\":{\"fillmode\":\"overlay\",\"size\":10,\"solidity\":0.2}},\"type\":\"barpolar\"}],\"pie\":[{\"automargin\":true,\"type\":\"pie\"}]},\"layout\":{\"autotypenumbers\":\"strict\",\"colorway\":[\"#636efa\",\"#EF553B\",\"#00cc96\",\"#ab63fa\",\"#FFA15A\",\"#19d3f3\",\"#FF6692\",\"#B6E880\",\"#FF97FF\",\"#FECB52\"],\"font\":{\"color\":\"#2a3f5f\"},\"hovermode\":\"closest\",\"hoverlabel\":{\"align\":\"left\"},\"paper_bgcolor\":\"white\",\"plot_bgcolor\":\"#E5ECF6\",\"polar\":{\"bgcolor\":\"#E5ECF6\",\"angularaxis\":{\"gridcolor\":\"white\",\"linecolor\":\"white\",\"ticks\":\"\"},\"radialaxis\":{\"gridcolor\":\"white\",\"linecolor\":\"white\",\"ticks\":\"\"}},\"ternary\":{\"bgcolor\":\"#E5ECF6\",\"aaxis\":{\"gridcolor\":\"white\",\"linecolor\":\"white\",\"ticks\":\"\"},\"baxis\":{\"gridcolor\":\"white\",\"linecolor\":\"white\",\"ticks\":\"\"},\"caxis\":{\"gridcolor\":\"white\",\"linecolor\":\"white\",\"ticks\":\"\"}},\"coloraxis\":{\"colorbar\":{\"outlinewidth\":0,\"ticks\":\"\"}},\"colorscale\":{\"sequential\":[[0.0,\"#0d0887\"],[0.1111111111111111,\"#46039f\"],[0.2222222222222222,\"#7201a8\"],[0.3333333333333333,\"#9c179e\"],[0.4444444444444444,\"#bd3786\"],[0.5555555555555556,\"#d8576b\"],[0.6666666666666666,\"#ed7953\"],[0.7777777777777778,\"#fb9f3a\"],[0.8888888888888888,\"#fdca26\"],[1.0,\"#f0f921\"]],\"sequentialminus\":[[0.0,\"#0d0887\"],[0.1111111111111111,\"#46039f\"],[0.2222222222222222,\"#7201a8\"],[0.3333333333333333,\"#9c179e\"],[0.4444444444444444,\"#bd3786\"],[0.5555555555555556,\"#d8576b\"],[0.6666666666666666,\"#ed7953\"],[0.7777777777777778,\"#fb9f3a\"],[0.8888888888888888,\"#fdca26\"],[1.0,\"#f0f921\"]],\"diverging\":[[0,\"#8e0152\"],[0.1,\"#c51b7d\"],[0.2,\"#de77ae\"],[0.3,\"#f1b6da\"],[0.4,\"#fde0ef\"],[0.5,\"#f7f7f7\"],[0.6,\"#e6f5d0\"],[0.7,\"#b8e186\"],[0.8,\"#7fbc41\"],[0.9,\"#4d9221\"],[1,\"#276419\"]]},\"xaxis\":{\"gridcolor\":\"white\",\"linecolor\":\"white\",\"ticks\":\"\",\"title\":{\"standoff\":15},\"zerolinecolor\":\"white\",\"automargin\":true,\"zerolinewidth\":2},\"yaxis\":{\"gridcolor\":\"white\",\"linecolor\":\"white\",\"ticks\":\"\",\"title\":{\"standoff\":15},\"zerolinecolor\":\"white\",\"automargin\":true,\"zerolinewidth\":2},\"scene\":{\"xaxis\":{\"backgroundcolor\":\"#E5ECF6\",\"gridcolor\":\"white\",\"linecolor\":\"white\",\"showbackground\":true,\"ticks\":\"\",\"zerolinecolor\":\"white\",\"gridwidth\":2},\"yaxis\":{\"backgroundcolor\":\"#E5ECF6\",\"gridcolor\":\"white\",\"linecolor\":\"white\",\"showbackground\":true,\"ticks\":\"\",\"zerolinecolor\":\"white\",\"gridwidth\":2},\"zaxis\":{\"backgroundcolor\":\"#E5ECF6\",\"gridcolor\":\"white\",\"linecolor\":\"white\",\"showbackground\":true,\"ticks\":\"\",\"zerolinecolor\":\"white\",\"gridwidth\":2}},\"shapedefaults\":{\"line\":{\"color\":\"#2a3f5f\"}},\"annotationdefaults\":{\"arrowcolor\":\"#2a3f5f\",\"arrowhead\":0,\"arrowwidth\":1},\"geo\":{\"bgcolor\":\"white\",\"landcolor\":\"#E5ECF6\",\"subunitcolor\":\"white\",\"showland\":true,\"showlakes\":true,\"lakecolor\":\"white\"},\"title\":{\"x\":0.05},\"mapbox\":{\"style\":\"light\"}}},\"title\":{\"font\":{\"size\":20},\"text\":\"Chronologie de quelques \\u00e9v\\u00e9nements marquants en IA conversationnelle\"},\"xaxis\":{\"showgrid\":false,\"zeroline\":false,\"showticklabels\":false,\"range\":[-3,3]},\"yaxis\":{\"title\":{\"text\":\"Date\",\"font\":{\"size\":16}},\"tickfont\":{\"size\":14},\"showgrid\":true,\"gridwidth\":1,\"gridcolor\":\"LightGray\",\"autorange\":\"reversed\"},\"hoverlabel\":{\"font\":{\"size\":14}},\"width\":1000,\"height\":800,\"plot_bgcolor\":\"white\",\"hovermode\":\"closest\",\"hoverdistance\":100,\"clickmode\":\"event+select\",\"uirevision\":true},                        {\"responsive\": true}                    )                };            </script>        </div>"
      ],
      "text/plain": [
       "<IPython.core.display.HTML object>"
      ]
     },
     "execution_count": 127,
     "metadata": {},
     "output_type": "execute_result"
    }
   ],
   "source": [
    "# La ligne suivante trie des données chronologiquement par date, et\n",
    "# assigne ce résultat à nouveau à la variable « data ». \n",
    "data = data.sort_values('Début')\n",
    "\n",
    "# Enrobons (wrap) le texte des événements afin que la longueur de chaque ligne ne\n",
    "# dépasse pas \n",
    "# plus de 30 caractères.  Nous utilisons la méthode pandas « apply »\n",
    "# avec une fonction anonyme (lambda), c'est-à-dire une fonction sans nom\n",
    "# qui n'a pas besoin d'être invoquée pour être exécutée.\n",
    "data['Événement'] = data['Événement'].apply(lambda x: '<br>'.join(wrap(x, width=30)))\n",
    "\n",
    "# Création des positions alternées pour les textes\n",
    "# De cette manière, les étiquettes ne se chevaucheront pas leurs dates\n",
    "# sont chronologiquement proches.\n",
    "positions = ['middle right', 'middle left'] * (len(data) // 2 + 1)\n",
    "positions = positions[:len(data)]\n",
    "\n",
    "# Position opposée pour le hover (si le texte est à droite, le hover sera à gauche et vice versa)\n",
    "hover_alignments = ['left' if pos == 'middle right' else 'right' for pos in positions]\n",
    "\n",
    "# Créons le graphique avec la fonction Plotly « Figure » \n",
    "fig = go.Figure()\n",
    "\n",
    "# Ajoutons des points et des étiquettes et ajoutons leurs paramètres\n",
    "# pour les afficher adéquatement.\n",
    "for i, row in enumerate(data.itertuples()):\n",
    "    fig.add_trace(go.Scatter(\n",
    "        y=[row.Début],\n",
    "        x=[0],\n",
    "        mode='markers+text',\n",
    "        marker=dict(size=12, symbol='circle'),\n",
    "        text=[row.Événement],\n",
    "        textposition=positions[i],\n",
    "        textfont=dict(size=14),\n",
    "        showlegend=False,\n",
    "        hovertemplate=\"%{customdata}<br><b>%{y|%Y}</b><extra></extra>\",\n",
    "        customdata=[row.Détails],\n",
    "        hoverlabel=dict(\n",
    "            bgcolor='rgba(0,0,0,0.8)',\n",
    "            align=hover_alignments[i], # Position alternée du hover\n",
    "        ),\n",
    "    ))\n",
    "\n",
    "# Traçons la ligne verticale sur laquelle tous les événements seront disposés.\n",
    "fig.add_trace(go.Scatter(\n",
    "    y=[data['Début'].min(), data['Début'].max()],\n",
    "    x=[0, 0],\n",
    "    mode='lines',\n",
    "    line=dict(color='black', width=1),\n",
    "    showlegend=False,\n",
    "    hoverinfo='skip'\n",
    "))\n",
    "\n",
    "# La fonction « update_layout » sert à mettre à jor le graphique avec\n",
    "# des détails et paramètres importonts: titre affiché sur la ligne de\n",
    "# temps, hauteur et largeur du graphique, taille de police, couleur de\n",
    "# fond, etc.  \n",
    "fig.update_layout(\n",
    "    title=dict(\n",
    "        text=\"Chronologie de quelques événements marquants en IA conversationnelle\",\n",
    "        font=dict(size=20) \n",
    "    ),\n",
    "    width=1000,\n",
    "    height=800,\n",
    "    plot_bgcolor='white',\n",
    "    xaxis=dict(\n",
    "        showgrid=False,\n",
    "        zeroline=False,\n",
    "        showticklabels=False,\n",
    "        range=[-3, 3]\n",
    "    ),\n",
    "    yaxis=dict(\n",
    "        title=\"Date\",\n",
    "        title_font=dict(size=16),\n",
    "        tickfont=dict(size=14),\n",
    "        showgrid=True,\n",
    "        gridwidth=1,\n",
    "        gridcolor='LightGray',\n",
    "        autorange=\"reversed\"\n",
    "    ),\n",
    "    hoverlabel=dict(\n",
    "        font_size=14, # taille de police sur les étiquettes flottantes: 14px\n",
    "    ),\n",
    "    hovermode='closest',\n",
    "    hoverdistance=100,\n",
    "    clickmode='event+select',  # Est supposé rendre le flottement de l'étiquette persistant jusqu'au prochain clic, mais l'interaction est limitée. voir la documentation\n",
    "    uirevision=True \n",
    ")\n",
    "\n",
    "# N'oublions pas d'afficher le graphique\n",
    "# fig.show()\n",
    "\n",
    "# After creating your figure\n",
    "from IPython.display import HTML\n",
    "\n",
    "# Export the figure to an HTML file with all required resources\n",
    "html_string = fig.to_html(include_plotlyjs='cdn', full_html=False)\n",
    "\n",
    "# Write to file\n",
    "with open('timeline_visualization.html', 'w') as f:\n",
    "    f.write(html_string)\n",
    "\n",
    "# You can also display it directly in the notebook\n",
    "HTML(html_string)"
   ]
  },
  {
   "cell_type": "markdown",
   "metadata": {},
   "source": [
    "## Commentaire et conclusion"
   ]
  },
  {
   "cell_type": "markdown",
   "metadata": {},
   "source": [
    "<h3>Prouesses et limites des capacités actuelles de l'IA générative</h3>\n",
    "\n",
    "Bien qu'à petite échelle, la construction d'une ligne de\n",
    "temps préliminaire à une branche précise des technologies numériques\n",
    "assistée par IA relève plusieurs opportunités, mais aussi de nombreux\n",
    "défis. \n",
    "\n",
    "En date du mois de décembre 2024, de grands modèles d'AI générative tels\n",
    "que GPT 4o et Claude Sonnet 3.5 affichent toujours des limites considérables à la recherche de ressources fiables, évaluées par les\n",
    "pairs dans des contextes scientifiques. Il serait possible d'argumenter\n",
    "que des modèles plus avancés et payants feraient un meilleur travail. Il\n",
    "serait aussi possible d'envisager que les limites des modèles de\n",
    "base seront bientôt dépassées et que, dans quelques années ou plus, un agent d'IA générative sera\n",
    "parfaitement en mesure de faire bien mieux que la plupart des experts.\n",
    "\n",
    "De nombreux experts en IA soient de cet avis. Par exemple, en décembre\n",
    "2024, Yann LeCun, scientifique\n",
    "en chef de l'IA de Meta, a affirmé que l'« intelligence » des systèmes d'IA pourrait\n",
    "bientôt être égale à celles des humains (Dixit, 11 décembre).\n",
    "Cela dit, les champs des sciences cognitives et de l'IA n'ont toujours\n",
    "pas de définition de l'intelligence faisant consensus auprès de tous\n",
    "les chercheurs et chercheuses de leurs communautés. Sans définitions ou\n",
    "conventions sur ce qu'est, au juste, l'intelligence chez les humains, les\n",
    "non-humains, et chez les machines, il est difficile de\n",
    "clairement répondre aux doutes qui subsistent quant à une telle possibilité. Les\n",
    "différentes\n",
    "évaluations et démonstrations des prouesses de l'IA générative tombent\n",
    "souvent dans la surenchère . Très peu sont adaptées à tous les cas\n",
    "d'usage. Et les IA spécialisées disponibles sont, à plusieurs égards,\n",
    "encore loin de remplacer les compétences solidement acquises d'un étudiant ou une étudiante de niveau de\n",
    "baccalauréat. Par exemple, à partir du site [Perplexity](https://www.perplexity.ai/), un examen des sources données en résultat d'une simple recherche de sources scientifiques\n",
    "sur l'évolution des agents conversationnels\n",
    "révèle encore seulement 2 sources universitaires, dont une seule publiée\n",
    "dans le cadre d'un processus de révision par les pairs. Pourtant,\n",
    "l'image de marque de la compagnie Perplexity se situe précisément —et\n",
    "ironiquement— dans la capacité à trouver des résultats de recherche de\n",
    "haut niveau.\n",
    "\n",
    "En ce qui concerne la recherche en sciences sociales et humaines (y\n",
    "compris les sciences de l'administration et de la gestion), force est de\n",
    "constater que le problème\n",
    "inhérent, et maintes fois relevé, de la production de données de qualité\n",
    "à partir d'une sélection experte de sources, restera en manque\n",
    "de solutions, surtout si elles visent à éliminer toute\n",
    "intervention humaine. Récemment, Ilya Sustkever, ex-co-fondateur et ancien membre du\n",
    "conseil de gouvernance d'OpenAI, a d'ailleurs noté que « Nous avons\n",
    "atteint le pic des données et il n’y en aura plus ... nous devons faire\n",
    "face aux données que nous avons. Il n’y a qu’un seul Internet »\n",
    "(Robison, 14 décembre 2024). La\n",
    "nature stochastique du fonctionnement de grands\n",
    "modèles de langage actuels et le manque de données massives de qualité rendent le\n",
    "processus impossible à automatiser de manière aussi efficace sans\n",
    "investissements humains significatifs. De tels investissements humains en\n",
    "temps, énergies, et expertises\n",
    "contrarient le principe et les bénéfices potentiels de toute\n",
    "automatisation poussée au-delà des scripts d'usages familiers et\n",
    "de modes de collaboration entre humains et machines déjà bien établis.\n",
    "\n",
    "\n",
    "L'évolution des technologies numériques numériques relève de contextes\n",
    "humains et culturels \n",
    "complexes et interreliés. Il est impossible d'en donner davantage qu'une\n",
    "idée très préliminaire et très partielle avec cinq événements. Cela dit,\n",
    "l'analyse qui vient d'être communiquée ici pourra être augmentée de\n",
    "manières multiples, dont ... <span style=\"background-color:yellow;\">\n",
    "    [en 2-3 phrases, à vous de suggérer des pistes et manières\n",
    "    utiles de pousser plus loin votre exploration. Il peut s'agir de charger\n",
    "    d'autres données tirées de banques telles que [Wikidata](https://wikidata.org), ou\n",
    "    encore de de comparer les événements que vous avez relevé avec un autre\n",
    "    type de donnée historique. Soyez cohérent.e avec votre thème et précis\n",
    "    dans vos descriptions.]\n",
    "</span>\n",
    "\n",
    "\n"
   ]
  },
  {
   "cell_type": "markdown",
   "metadata": {},
   "source": [
    "## Bibliographie"
   ]
  },
  {
   "cell_type": "markdown",
   "metadata": {},
   "source": [
    "- Aimé, X. (2017). Intelligence artificielle et psychiatrie : noces d’or entre Eliza et Parry. *L’information psychiatrique*, 93(1), 51‑56. https://stm.cairn.info/revue-l-information-psychiatrique-2017-1-page-51\n",
    "- Al-Amin, M., Ali, M. S., Salam, A., Khan, A., Ali, A., Ullah, A.,\n",
    "  Alam, M. N. et Chowdhury, S. K. (2024, 4 février). History of\n",
    "  generative Artificial Intelligence (AI) chatbots: past, present, and\n",
    "  future development. *arXiv*. https://doi.org/10.48550/arXiv.2402.05122\n",
    "- Dixit, P. (2024, 11 décembre). « The real revolution is yet to come »: Meta AI chief Yann LeCun on the future of AI. *Business Today*. https://www.businesstoday.in/technology/news/story/the-real-revolution-is-yet-to-come-meta-ai-chief-yann-lecun-on-the-future-of-ai-456948-2024-12-11\n",
    "- Lewis, T. (2020, 1 novembre). Elon Musk’s Pig-Brain Implant Is Still a\n",
    "  Long Way from « Solving Paralysis ». *Scientific American*.\n",
    "  https://www.scientificamerican.com/article/elon-musks-pig-brain-implant-is-still-a-long-way-from-solving-paralysis/\n",
    "- Orf, D. (2023, 16 avril). The Turing Test for AI Is Obsolete - Is There a Better Framework? *Popular Mechanics*. https://www.popularmechanics.com/technology/robots/a43328241/turing-test-for-artificial-intelligence-is-obsolete/\n",
    "- Reuters. (2024, 30 janvier). Elon Musk’s Neuralink implants brain chip\n",
    "  in first human. *Reuters*.\n",
    "  https://www.reuters.com/technology/neuralink-implants-brain-chip-first-human-musk-says-2024-01-29/]\n",
    "- Robison, K. (2024, 14 décembre). OpenAI cofounder Ilya Sutskever says the way AI is built is about to change. *The Verge*. https://www.theverge.com/2024/12/13/24320811/what-ilya-sutskever-sees-openai-model-data-training\n",
    "- Turing, A. M. (1950). Computing Machinery and Intelligence. *Mind, New\n",
    "  Series*, 59(236), 433‑460.\n",
    "- Vaswani, A., Shazeer, N., Parmar, N., Uszkoreit, J., Jones, L., Gomez,\n",
    "  A. N., Kaiser, L. et Polosukhin, I. (2017, 5 décembre). Attention Is\n",
    "  All You Need. *arXiv*. https://doi.org/10.48550/arXiv.1706.03762\n",
    "- Weizenbaum, J. (1966). ELIZA—a computer program for the study of natural language communication between man and machine. *Commun. ACM*, 9(1), 36‑45. https://doi.org/10.1145/365153.365168\n",
    "- Zewe, A. (2023, 9 novembre). Explained: Generative AI. *MIT News | Massachusetts Institute of Technology*. https://news.mit.edu/2023/explained-generative-ai-1109\n"
   ]
  }
 ],
 "metadata": {
  "kernelspec": {
   "display_name": "3.13.3",
   "language": "python",
   "name": "python3"
  },
  "language_info": {
   "codemirror_mode": {
    "name": "ipython",
    "version": 3
   },
   "file_extension": ".py",
   "mimetype": "text/x-python",
   "name": "python",
   "nbconvert_exporter": "python",
   "pygments_lexer": "ipython3",
   "version": "3.13.3"
  }
 },
 "nbformat": 4,
 "nbformat_minor": 4
}
